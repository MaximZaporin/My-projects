{
 "cells": [
  {
   "cell_type": "markdown",
   "id": "c93f23d2",
   "metadata": {
    "deletable": false,
    "editable": false,
    "id": "c81daeeb"
   },
   "source": [
    "# Исследование надежности заемщиков\n"
   ]
  },
  {
   "cell_type": "markdown",
   "id": "ffacf4b7",
   "metadata": {
    "id": "744d7639"
   },
   "source": [
    "## Откроем таблицу и изучим общую информацию о данных"
   ]
  },
  {
   "cell_type": "markdown",
   "id": "7e48f4dd",
   "metadata": {
    "id": "e7a14c31"
   },
   "source": [
    "**Импортируем библиотеку pandas. Считаем данные из csv-файла в датафрейм и сохраним в переменную `data`.**"
   ]
  },
  {
   "cell_type": "code",
   "execution_count": 1,
   "id": "5cce40de",
   "metadata": {
    "deletable": false,
    "id": "7bcf75c9"
   },
   "outputs": [],
   "source": [
    "import pandas as pd\n",
    "\n",
    "try:\n",
    "    data = pd.read_csv('/datasets/data.csv')\n",
    "except:\n",
    "    data = pd.read_csv('https://code.s3.yandex.net/datasets/data.csv')"
   ]
  },
  {
   "cell_type": "markdown",
   "id": "889ae9dd",
   "metadata": {
    "id": "b8038fe3"
   },
   "source": [
    "**Выведем первые 20 строчек датафрейма `data` на экран.**"
   ]
  },
  {
   "cell_type": "code",
   "execution_count": 2,
   "id": "d32f9999",
   "metadata": {
    "deletable": false,
    "id": "2a7cab99",
    "outputId": "1a8f3ef2-d323-4ec2-ddf7-89670b5944c4"
   },
   "outputs": [
    {
     "data": {
      "text/html": [
       "<div>\n",
       "<style scoped>\n",
       "    .dataframe tbody tr th:only-of-type {\n",
       "        vertical-align: middle;\n",
       "    }\n",
       "\n",
       "    .dataframe tbody tr th {\n",
       "        vertical-align: top;\n",
       "    }\n",
       "\n",
       "    .dataframe thead th {\n",
       "        text-align: right;\n",
       "    }\n",
       "</style>\n",
       "<table border=\"1\" class=\"dataframe\">\n",
       "  <thead>\n",
       "    <tr style=\"text-align: right;\">\n",
       "      <th></th>\n",
       "      <th>children</th>\n",
       "      <th>days_employed</th>\n",
       "      <th>dob_years</th>\n",
       "      <th>education</th>\n",
       "      <th>education_id</th>\n",
       "      <th>family_status</th>\n",
       "      <th>family_status_id</th>\n",
       "      <th>gender</th>\n",
       "      <th>income_type</th>\n",
       "      <th>debt</th>\n",
       "      <th>total_income</th>\n",
       "      <th>purpose</th>\n",
       "    </tr>\n",
       "  </thead>\n",
       "  <tbody>\n",
       "    <tr>\n",
       "      <th>0</th>\n",
       "      <td>1</td>\n",
       "      <td>-8437.673028</td>\n",
       "      <td>42</td>\n",
       "      <td>высшее</td>\n",
       "      <td>0</td>\n",
       "      <td>женат / замужем</td>\n",
       "      <td>0</td>\n",
       "      <td>F</td>\n",
       "      <td>сотрудник</td>\n",
       "      <td>0</td>\n",
       "      <td>253875.639453</td>\n",
       "      <td>покупка жилья</td>\n",
       "    </tr>\n",
       "    <tr>\n",
       "      <th>1</th>\n",
       "      <td>1</td>\n",
       "      <td>-4024.803754</td>\n",
       "      <td>36</td>\n",
       "      <td>среднее</td>\n",
       "      <td>1</td>\n",
       "      <td>женат / замужем</td>\n",
       "      <td>0</td>\n",
       "      <td>F</td>\n",
       "      <td>сотрудник</td>\n",
       "      <td>0</td>\n",
       "      <td>112080.014102</td>\n",
       "      <td>приобретение автомобиля</td>\n",
       "    </tr>\n",
       "    <tr>\n",
       "      <th>2</th>\n",
       "      <td>0</td>\n",
       "      <td>-5623.422610</td>\n",
       "      <td>33</td>\n",
       "      <td>Среднее</td>\n",
       "      <td>1</td>\n",
       "      <td>женат / замужем</td>\n",
       "      <td>0</td>\n",
       "      <td>M</td>\n",
       "      <td>сотрудник</td>\n",
       "      <td>0</td>\n",
       "      <td>145885.952297</td>\n",
       "      <td>покупка жилья</td>\n",
       "    </tr>\n",
       "    <tr>\n",
       "      <th>3</th>\n",
       "      <td>3</td>\n",
       "      <td>-4124.747207</td>\n",
       "      <td>32</td>\n",
       "      <td>среднее</td>\n",
       "      <td>1</td>\n",
       "      <td>женат / замужем</td>\n",
       "      <td>0</td>\n",
       "      <td>M</td>\n",
       "      <td>сотрудник</td>\n",
       "      <td>0</td>\n",
       "      <td>267628.550329</td>\n",
       "      <td>дополнительное образование</td>\n",
       "    </tr>\n",
       "    <tr>\n",
       "      <th>4</th>\n",
       "      <td>0</td>\n",
       "      <td>340266.072047</td>\n",
       "      <td>53</td>\n",
       "      <td>среднее</td>\n",
       "      <td>1</td>\n",
       "      <td>гражданский брак</td>\n",
       "      <td>1</td>\n",
       "      <td>F</td>\n",
       "      <td>пенсионер</td>\n",
       "      <td>0</td>\n",
       "      <td>158616.077870</td>\n",
       "      <td>сыграть свадьбу</td>\n",
       "    </tr>\n",
       "    <tr>\n",
       "      <th>5</th>\n",
       "      <td>0</td>\n",
       "      <td>-926.185831</td>\n",
       "      <td>27</td>\n",
       "      <td>высшее</td>\n",
       "      <td>0</td>\n",
       "      <td>гражданский брак</td>\n",
       "      <td>1</td>\n",
       "      <td>M</td>\n",
       "      <td>компаньон</td>\n",
       "      <td>0</td>\n",
       "      <td>255763.565419</td>\n",
       "      <td>покупка жилья</td>\n",
       "    </tr>\n",
       "    <tr>\n",
       "      <th>6</th>\n",
       "      <td>0</td>\n",
       "      <td>-2879.202052</td>\n",
       "      <td>43</td>\n",
       "      <td>высшее</td>\n",
       "      <td>0</td>\n",
       "      <td>женат / замужем</td>\n",
       "      <td>0</td>\n",
       "      <td>F</td>\n",
       "      <td>компаньон</td>\n",
       "      <td>0</td>\n",
       "      <td>240525.971920</td>\n",
       "      <td>операции с жильем</td>\n",
       "    </tr>\n",
       "    <tr>\n",
       "      <th>7</th>\n",
       "      <td>0</td>\n",
       "      <td>-152.779569</td>\n",
       "      <td>50</td>\n",
       "      <td>СРЕДНЕЕ</td>\n",
       "      <td>1</td>\n",
       "      <td>женат / замужем</td>\n",
       "      <td>0</td>\n",
       "      <td>M</td>\n",
       "      <td>сотрудник</td>\n",
       "      <td>0</td>\n",
       "      <td>135823.934197</td>\n",
       "      <td>образование</td>\n",
       "    </tr>\n",
       "    <tr>\n",
       "      <th>8</th>\n",
       "      <td>2</td>\n",
       "      <td>-6929.865299</td>\n",
       "      <td>35</td>\n",
       "      <td>ВЫСШЕЕ</td>\n",
       "      <td>0</td>\n",
       "      <td>гражданский брак</td>\n",
       "      <td>1</td>\n",
       "      <td>F</td>\n",
       "      <td>сотрудник</td>\n",
       "      <td>0</td>\n",
       "      <td>95856.832424</td>\n",
       "      <td>на проведение свадьбы</td>\n",
       "    </tr>\n",
       "    <tr>\n",
       "      <th>9</th>\n",
       "      <td>0</td>\n",
       "      <td>-2188.756445</td>\n",
       "      <td>41</td>\n",
       "      <td>среднее</td>\n",
       "      <td>1</td>\n",
       "      <td>женат / замужем</td>\n",
       "      <td>0</td>\n",
       "      <td>M</td>\n",
       "      <td>сотрудник</td>\n",
       "      <td>0</td>\n",
       "      <td>144425.938277</td>\n",
       "      <td>покупка жилья для семьи</td>\n",
       "    </tr>\n",
       "    <tr>\n",
       "      <th>10</th>\n",
       "      <td>2</td>\n",
       "      <td>-4171.483647</td>\n",
       "      <td>36</td>\n",
       "      <td>высшее</td>\n",
       "      <td>0</td>\n",
       "      <td>женат / замужем</td>\n",
       "      <td>0</td>\n",
       "      <td>M</td>\n",
       "      <td>компаньон</td>\n",
       "      <td>0</td>\n",
       "      <td>113943.491460</td>\n",
       "      <td>покупка недвижимости</td>\n",
       "    </tr>\n",
       "    <tr>\n",
       "      <th>11</th>\n",
       "      <td>0</td>\n",
       "      <td>-792.701887</td>\n",
       "      <td>40</td>\n",
       "      <td>среднее</td>\n",
       "      <td>1</td>\n",
       "      <td>женат / замужем</td>\n",
       "      <td>0</td>\n",
       "      <td>F</td>\n",
       "      <td>сотрудник</td>\n",
       "      <td>0</td>\n",
       "      <td>77069.234271</td>\n",
       "      <td>покупка коммерческой недвижимости</td>\n",
       "    </tr>\n",
       "    <tr>\n",
       "      <th>12</th>\n",
       "      <td>0</td>\n",
       "      <td>NaN</td>\n",
       "      <td>65</td>\n",
       "      <td>среднее</td>\n",
       "      <td>1</td>\n",
       "      <td>гражданский брак</td>\n",
       "      <td>1</td>\n",
       "      <td>M</td>\n",
       "      <td>пенсионер</td>\n",
       "      <td>0</td>\n",
       "      <td>NaN</td>\n",
       "      <td>сыграть свадьбу</td>\n",
       "    </tr>\n",
       "    <tr>\n",
       "      <th>13</th>\n",
       "      <td>0</td>\n",
       "      <td>-1846.641941</td>\n",
       "      <td>54</td>\n",
       "      <td>неоконченное высшее</td>\n",
       "      <td>2</td>\n",
       "      <td>женат / замужем</td>\n",
       "      <td>0</td>\n",
       "      <td>F</td>\n",
       "      <td>сотрудник</td>\n",
       "      <td>0</td>\n",
       "      <td>130458.228857</td>\n",
       "      <td>приобретение автомобиля</td>\n",
       "    </tr>\n",
       "    <tr>\n",
       "      <th>14</th>\n",
       "      <td>0</td>\n",
       "      <td>-1844.956182</td>\n",
       "      <td>56</td>\n",
       "      <td>высшее</td>\n",
       "      <td>0</td>\n",
       "      <td>гражданский брак</td>\n",
       "      <td>1</td>\n",
       "      <td>F</td>\n",
       "      <td>компаньон</td>\n",
       "      <td>1</td>\n",
       "      <td>165127.911772</td>\n",
       "      <td>покупка жилой недвижимости</td>\n",
       "    </tr>\n",
       "    <tr>\n",
       "      <th>15</th>\n",
       "      <td>1</td>\n",
       "      <td>-972.364419</td>\n",
       "      <td>26</td>\n",
       "      <td>среднее</td>\n",
       "      <td>1</td>\n",
       "      <td>женат / замужем</td>\n",
       "      <td>0</td>\n",
       "      <td>F</td>\n",
       "      <td>сотрудник</td>\n",
       "      <td>0</td>\n",
       "      <td>116820.904450</td>\n",
       "      <td>строительство собственной недвижимости</td>\n",
       "    </tr>\n",
       "    <tr>\n",
       "      <th>16</th>\n",
       "      <td>0</td>\n",
       "      <td>-1719.934226</td>\n",
       "      <td>35</td>\n",
       "      <td>среднее</td>\n",
       "      <td>1</td>\n",
       "      <td>женат / замужем</td>\n",
       "      <td>0</td>\n",
       "      <td>F</td>\n",
       "      <td>сотрудник</td>\n",
       "      <td>0</td>\n",
       "      <td>289202.704229</td>\n",
       "      <td>недвижимость</td>\n",
       "    </tr>\n",
       "    <tr>\n",
       "      <th>17</th>\n",
       "      <td>0</td>\n",
       "      <td>-2369.999720</td>\n",
       "      <td>33</td>\n",
       "      <td>высшее</td>\n",
       "      <td>0</td>\n",
       "      <td>гражданский брак</td>\n",
       "      <td>1</td>\n",
       "      <td>M</td>\n",
       "      <td>сотрудник</td>\n",
       "      <td>0</td>\n",
       "      <td>90410.586745</td>\n",
       "      <td>строительство недвижимости</td>\n",
       "    </tr>\n",
       "    <tr>\n",
       "      <th>18</th>\n",
       "      <td>0</td>\n",
       "      <td>400281.136913</td>\n",
       "      <td>53</td>\n",
       "      <td>среднее</td>\n",
       "      <td>1</td>\n",
       "      <td>вдовец / вдова</td>\n",
       "      <td>2</td>\n",
       "      <td>F</td>\n",
       "      <td>пенсионер</td>\n",
       "      <td>0</td>\n",
       "      <td>56823.777243</td>\n",
       "      <td>на покупку подержанного автомобиля</td>\n",
       "    </tr>\n",
       "    <tr>\n",
       "      <th>19</th>\n",
       "      <td>0</td>\n",
       "      <td>-10038.818549</td>\n",
       "      <td>48</td>\n",
       "      <td>СРЕДНЕЕ</td>\n",
       "      <td>1</td>\n",
       "      <td>в разводе</td>\n",
       "      <td>3</td>\n",
       "      <td>F</td>\n",
       "      <td>сотрудник</td>\n",
       "      <td>0</td>\n",
       "      <td>242831.107982</td>\n",
       "      <td>на покупку своего автомобиля</td>\n",
       "    </tr>\n",
       "  </tbody>\n",
       "</table>\n",
       "</div>"
      ],
      "text/plain": [
       "    children  days_employed  dob_years            education  education_id  \\\n",
       "0          1   -8437.673028         42               высшее             0   \n",
       "1          1   -4024.803754         36              среднее             1   \n",
       "2          0   -5623.422610         33              Среднее             1   \n",
       "3          3   -4124.747207         32              среднее             1   \n",
       "4          0  340266.072047         53              среднее             1   \n",
       "5          0    -926.185831         27               высшее             0   \n",
       "6          0   -2879.202052         43               высшее             0   \n",
       "7          0    -152.779569         50              СРЕДНЕЕ             1   \n",
       "8          2   -6929.865299         35               ВЫСШЕЕ             0   \n",
       "9          0   -2188.756445         41              среднее             1   \n",
       "10         2   -4171.483647         36               высшее             0   \n",
       "11         0    -792.701887         40              среднее             1   \n",
       "12         0            NaN         65              среднее             1   \n",
       "13         0   -1846.641941         54  неоконченное высшее             2   \n",
       "14         0   -1844.956182         56               высшее             0   \n",
       "15         1    -972.364419         26              среднее             1   \n",
       "16         0   -1719.934226         35              среднее             1   \n",
       "17         0   -2369.999720         33               высшее             0   \n",
       "18         0  400281.136913         53              среднее             1   \n",
       "19         0  -10038.818549         48              СРЕДНЕЕ             1   \n",
       "\n",
       "       family_status  family_status_id gender income_type  debt  \\\n",
       "0    женат / замужем                 0      F   сотрудник     0   \n",
       "1    женат / замужем                 0      F   сотрудник     0   \n",
       "2    женат / замужем                 0      M   сотрудник     0   \n",
       "3    женат / замужем                 0      M   сотрудник     0   \n",
       "4   гражданский брак                 1      F   пенсионер     0   \n",
       "5   гражданский брак                 1      M   компаньон     0   \n",
       "6    женат / замужем                 0      F   компаньон     0   \n",
       "7    женат / замужем                 0      M   сотрудник     0   \n",
       "8   гражданский брак                 1      F   сотрудник     0   \n",
       "9    женат / замужем                 0      M   сотрудник     0   \n",
       "10   женат / замужем                 0      M   компаньон     0   \n",
       "11   женат / замужем                 0      F   сотрудник     0   \n",
       "12  гражданский брак                 1      M   пенсионер     0   \n",
       "13   женат / замужем                 0      F   сотрудник     0   \n",
       "14  гражданский брак                 1      F   компаньон     1   \n",
       "15   женат / замужем                 0      F   сотрудник     0   \n",
       "16   женат / замужем                 0      F   сотрудник     0   \n",
       "17  гражданский брак                 1      M   сотрудник     0   \n",
       "18    вдовец / вдова                 2      F   пенсионер     0   \n",
       "19         в разводе                 3      F   сотрудник     0   \n",
       "\n",
       "     total_income                                 purpose  \n",
       "0   253875.639453                           покупка жилья  \n",
       "1   112080.014102                 приобретение автомобиля  \n",
       "2   145885.952297                           покупка жилья  \n",
       "3   267628.550329              дополнительное образование  \n",
       "4   158616.077870                         сыграть свадьбу  \n",
       "5   255763.565419                           покупка жилья  \n",
       "6   240525.971920                       операции с жильем  \n",
       "7   135823.934197                             образование  \n",
       "8    95856.832424                   на проведение свадьбы  \n",
       "9   144425.938277                 покупка жилья для семьи  \n",
       "10  113943.491460                    покупка недвижимости  \n",
       "11   77069.234271       покупка коммерческой недвижимости  \n",
       "12            NaN                         сыграть свадьбу  \n",
       "13  130458.228857                 приобретение автомобиля  \n",
       "14  165127.911772              покупка жилой недвижимости  \n",
       "15  116820.904450  строительство собственной недвижимости  \n",
       "16  289202.704229                            недвижимость  \n",
       "17   90410.586745              строительство недвижимости  \n",
       "18   56823.777243      на покупку подержанного автомобиля  \n",
       "19  242831.107982            на покупку своего автомобиля  "
      ]
     },
     "execution_count": 2,
     "metadata": {},
     "output_type": "execute_result"
    }
   ],
   "source": [
    "data.head(20)"
   ]
  },
  {
   "cell_type": "markdown",
   "id": "7b3b00cc",
   "metadata": {
    "id": "1c12e233"
   },
   "source": [
    "**Выведем основную информацию о датафрейме с помощью метода `info()`.**"
   ]
  },
  {
   "cell_type": "code",
   "execution_count": 3,
   "id": "42ec7dc6",
   "metadata": {
    "deletable": false,
    "id": "2b757bca",
    "outputId": "15376089-8dad-46c9-b520-c05248d43158"
   },
   "outputs": [
    {
     "name": "stdout",
     "output_type": "stream",
     "text": [
      "<class 'pandas.core.frame.DataFrame'>\n",
      "RangeIndex: 21525 entries, 0 to 21524\n",
      "Data columns (total 12 columns):\n",
      " #   Column            Non-Null Count  Dtype  \n",
      "---  ------            --------------  -----  \n",
      " 0   children          21525 non-null  int64  \n",
      " 1   days_employed     19351 non-null  float64\n",
      " 2   dob_years         21525 non-null  int64  \n",
      " 3   education         21525 non-null  object \n",
      " 4   education_id      21525 non-null  int64  \n",
      " 5   family_status     21525 non-null  object \n",
      " 6   family_status_id  21525 non-null  int64  \n",
      " 7   gender            21525 non-null  object \n",
      " 8   income_type       21525 non-null  object \n",
      " 9   debt              21525 non-null  int64  \n",
      " 10  total_income      19351 non-null  float64\n",
      " 11  purpose           21525 non-null  object \n",
      "dtypes: float64(2), int64(5), object(5)\n",
      "memory usage: 2.0+ MB\n"
     ]
    }
   ],
   "source": [
    "data.info()"
   ]
  },
  {
   "cell_type": "markdown",
   "id": "a837a145",
   "metadata": {
    "deletable": false,
    "editable": false,
    "id": "333ec665"
   },
   "source": [
    "## Предобработка данных"
   ]
  },
  {
   "cell_type": "markdown",
   "id": "8c249d9c",
   "metadata": {
    "deletable": false,
    "editable": false,
    "id": "02d92d53"
   },
   "source": [
    "### Удаление пропусков"
   ]
  },
  {
   "cell_type": "markdown",
   "id": "88e29a09",
   "metadata": {
    "id": "cd84967c"
   },
   "source": [
    "**Выведем количество пропущенных значений для каждого столбца**"
   ]
  },
  {
   "cell_type": "code",
   "execution_count": 4,
   "id": "11f45ab2",
   "metadata": {
    "deletable": false,
    "id": "7f9b2309",
    "outputId": "81f4d817-781c-465c-ed15-91ce4446810d"
   },
   "outputs": [
    {
     "data": {
      "text/plain": [
       "children               0\n",
       "days_employed       2174\n",
       "dob_years              0\n",
       "education              0\n",
       "education_id           0\n",
       "family_status          0\n",
       "family_status_id       0\n",
       "gender                 0\n",
       "income_type            0\n",
       "debt                   0\n",
       "total_income        2174\n",
       "purpose                0\n",
       "dtype: int64"
      ]
     },
     "execution_count": 4,
     "metadata": {},
     "output_type": "execute_result"
    }
   ],
   "source": [
    "data.isna().sum()"
   ]
  },
  {
   "cell_type": "markdown",
   "id": "593dde14",
   "metadata": {
    "id": "db86e27b"
   },
   "source": [
    "В двух столбцах есть пропущенные значения. Один из них — `days_employed`. Другой столбец с пропущенными значениями — `total_income` — хранит данные о доходах. На сумму дохода сильнее всего влияет тип занятости, поэтому заполним пропуски в этом столбце медианным значением по каждому типу из столбца `income_type`. Например, у человека с типом занятости `сотрудник` пропуск в столбце `total_income` будет заполнен медианным доходом среди всех записей с тем же типом."
   ]
  },
  {
   "cell_type": "code",
   "execution_count": 5,
   "id": "d31856fe",
   "metadata": {
    "deletable": false,
    "id": "42006a93"
   },
   "outputs": [],
   "source": [
    "for t in data['income_type'].unique():\n",
    "    data.loc[(data['income_type'] == t) & (data['total_income'].isna()), 'total_income'] = \\\n",
    "    data.loc[(data['income_type'] == t), 'total_income'].median()"
   ]
  },
  {
   "cell_type": "markdown",
   "id": "d92860fc",
   "metadata": {
    "deletable": false,
    "editable": false,
    "id": "89da5ece"
   },
   "source": [
    "### Обработка аномальных значений"
   ]
  },
  {
   "cell_type": "markdown",
   "id": "8669d291",
   "metadata": {
    "id": "57964554"
   },
   "source": [
    "В данных могут встречаются артефакты (аномалии) — значения, которые не отражают действительность и появились по какой-то ошибке. Таким артефактом будет отрицательное количество дней трудового стажа в столбце `days_employed`. Заменим все отрицательные значения положительными с помощью метода `abs()`"
   ]
  },
  {
   "cell_type": "code",
   "execution_count": 6,
   "id": "7bd9b2ff",
   "metadata": {
    "deletable": false,
    "id": "f6f055bf"
   },
   "outputs": [],
   "source": [
    "data['days_employed'] = data['days_employed'].abs()"
   ]
  },
  {
   "cell_type": "markdown",
   "id": "88e7bbd7",
   "metadata": {
    "id": "6107dd2f"
   },
   "source": [
    "**Для каждого типа занятости выведем медианное значение трудового стажа `days_employed` в днях**"
   ]
  },
  {
   "cell_type": "code",
   "execution_count": 7,
   "id": "c03eb385",
   "metadata": {
    "deletable": false,
    "id": "85a5faf6",
    "outputId": "801ef80e-522b-4668-f34e-565af7432bcf"
   },
   "outputs": [
    {
     "data": {
      "text/plain": [
       "income_type\n",
       "безработный        366413.652744\n",
       "в декрете            3296.759962\n",
       "госслужащий          2689.368353\n",
       "компаньон            1547.382223\n",
       "пенсионер          365213.306266\n",
       "предприниматель       520.848083\n",
       "сотрудник            1574.202821\n",
       "студент               578.751554\n",
       "Name: days_employed, dtype: float64"
      ]
     },
     "execution_count": 7,
     "metadata": {},
     "output_type": "execute_result"
    }
   ],
   "source": [
    "data.groupby('income_type')['days_employed'].agg('median')"
   ]
  },
  {
   "cell_type": "markdown",
   "id": "f4bfaf38",
   "metadata": {
    "id": "d8a9f147"
   },
   "source": [
    "**Выведем перечень уникальных значений столбца `children`**"
   ]
  },
  {
   "cell_type": "code",
   "execution_count": 8,
   "id": "7039eed4",
   "metadata": {
    "deletable": false,
    "id": "ef5056eb",
    "outputId": "6975b15c-7f95-4697-d16d-a0c79b657b03"
   },
   "outputs": [
    {
     "data": {
      "text/plain": [
       "array([ 1,  0,  3,  2, -1,  4, 20,  5])"
      ]
     },
     "execution_count": 8,
     "metadata": {},
     "output_type": "execute_result"
    }
   ],
   "source": [
    "data['children'].unique()"
   ]
  },
  {
   "cell_type": "markdown",
   "id": "0ae2021d",
   "metadata": {
    "id": "40b9ebf2"
   },
   "source": [
    "**В столбце `children` есть два аномальных значения. Удалим строки, в которых встречаются такие аномальные значения из датафрейма `data`**"
   ]
  },
  {
   "cell_type": "code",
   "execution_count": 9,
   "id": "c11c644c",
   "metadata": {
    "deletable": false,
    "id": "3ff9801d"
   },
   "outputs": [],
   "source": [
    "data = data[(data['children'] != -1) & (data['children'] != 20)]"
   ]
  },
  {
   "cell_type": "markdown",
   "id": "18d2c146",
   "metadata": {
    "id": "bbc4d0ce"
   },
   "source": [
    "**Ещё раз выведем перечень уникальных значений столбца `children`, чтобы убедиться, что артефакты удалены**"
   ]
  },
  {
   "cell_type": "code",
   "execution_count": 10,
   "id": "7084c15e",
   "metadata": {
    "deletable": false,
    "id": "ad4fa8b7",
    "outputId": "b2097101-d49d-44d9-901b-32a65c9463d1"
   },
   "outputs": [
    {
     "data": {
      "text/plain": [
       "array([1, 0, 3, 2, 4, 5])"
      ]
     },
     "execution_count": 10,
     "metadata": {},
     "output_type": "execute_result"
    }
   ],
   "source": [
    "data['children'].unique()"
   ]
  },
  {
   "cell_type": "markdown",
   "id": "d36de029",
   "metadata": {
    "id": "75440b63"
   },
   "source": [
    "### Удаление пропусков (продолжение)"
   ]
  },
  {
   "cell_type": "markdown",
   "id": "d7df94af",
   "metadata": {
    "id": "f4ea573f"
   },
   "source": [
    "**Заполним пропуски в столбце `days_employed` медианными значениями по каждого типа занятости `income_type`**"
   ]
  },
  {
   "cell_type": "code",
   "execution_count": 11,
   "id": "85c3a2ff",
   "metadata": {
    "deletable": false,
    "id": "af6b1a7e"
   },
   "outputs": [],
   "source": [
    "for t in data['income_type'].unique():\n",
    "    data.loc[(data['income_type'] == t) & (data['days_employed'].isna()), 'days_employed'] = \\\n",
    "    data.loc[(data['income_type'] == t), 'days_employed'].median()"
   ]
  },
  {
   "cell_type": "markdown",
   "id": "eb8193ce",
   "metadata": {
    "id": "2753f40d"
   },
   "source": [
    "**Убедимся, что все пропуски заполнены. Проверим себя и ещё раз выведем количество пропущенных значений для каждого столбца**"
   ]
  },
  {
   "cell_type": "code",
   "execution_count": 12,
   "id": "418e6bc2",
   "metadata": {
    "deletable": false,
    "id": "55f78bc2",
    "outputId": "8da1e4e1-358e-4e87-98c9-f261bce0a7b2"
   },
   "outputs": [
    {
     "data": {
      "text/plain": [
       "children            0\n",
       "days_employed       0\n",
       "dob_years           0\n",
       "education           0\n",
       "education_id        0\n",
       "family_status       0\n",
       "family_status_id    0\n",
       "gender              0\n",
       "income_type         0\n",
       "debt                0\n",
       "total_income        0\n",
       "purpose             0\n",
       "dtype: int64"
      ]
     },
     "execution_count": 12,
     "metadata": {},
     "output_type": "execute_result"
    }
   ],
   "source": [
    "data.isna().sum()"
   ]
  },
  {
   "cell_type": "markdown",
   "id": "acb4a6b5",
   "metadata": {
    "deletable": false,
    "editable": false,
    "id": "ddc81e43"
   },
   "source": [
    "### Изменение типов данных"
   ]
  },
  {
   "cell_type": "markdown",
   "id": "f49704d8",
   "metadata": {
    "id": "42d19d24"
   },
   "source": [
    "**Заменм вещественный тип данных в столбце `total_income` на целочисленный с помощью метода `astype()`.**"
   ]
  },
  {
   "cell_type": "code",
   "execution_count": 13,
   "id": "720c1882",
   "metadata": {
    "deletable": false,
    "id": "920b65ad"
   },
   "outputs": [],
   "source": [
    "data['total_income'] = data['total_income'].astype(int)"
   ]
  },
  {
   "cell_type": "markdown",
   "id": "6c916bc4",
   "metadata": {
    "deletable": false,
    "editable": false,
    "id": "80c420ba"
   },
   "source": [
    "### Обработка дубликатов"
   ]
  },
  {
   "cell_type": "markdown",
   "id": "84ece512",
   "metadata": {},
   "source": [
    "**Обработаем неявные дубликаты в столбце `education`. В этом столбце есть одни и те же значения, но записанные по-разному: с использованием заглавных и строчных букв. Приведем их к нижнему регистру. Проверим остальные столбцы.**"
   ]
  },
  {
   "cell_type": "code",
   "execution_count": 14,
   "id": "c3b97c44",
   "metadata": {
    "deletable": false
   },
   "outputs": [],
   "source": [
    "data['education'] = data['education'].str.lower()"
   ]
  },
  {
   "cell_type": "markdown",
   "id": "ce979fdf",
   "metadata": {
    "id": "dc587695"
   },
   "source": [
    "**Выведем на экран количество строк-дубликатов в данных. Если такие строки присутствуют, удалим их.**"
   ]
  },
  {
   "cell_type": "code",
   "execution_count": 15,
   "id": "8d9f343c",
   "metadata": {
    "deletable": false,
    "id": "3ee445e4",
    "outputId": "9684deba-1934-42d1-99e1-cda61740f822"
   },
   "outputs": [
    {
     "data": {
      "text/plain": [
       "71"
      ]
     },
     "execution_count": 15,
     "metadata": {},
     "output_type": "execute_result"
    }
   ],
   "source": [
    "data.duplicated().sum()"
   ]
  },
  {
   "cell_type": "code",
   "execution_count": 16,
   "id": "d9c1f8b1",
   "metadata": {
    "deletable": false,
    "id": "8575fe05"
   },
   "outputs": [],
   "source": [
    "data = data.drop_duplicates()"
   ]
  },
  {
   "cell_type": "markdown",
   "id": "2971cb15",
   "metadata": {
    "deletable": false,
    "editable": false,
    "id": "9904cf55"
   },
   "source": [
    "### Категоризация данных"
   ]
  },
  {
   "cell_type": "markdown",
   "id": "825a611e",
   "metadata": {
    "id": "72fcc8a2"
   },
   "source": [
    "**Задание 16. На основании диапазонов, указанных ниже, создадим в датафрейме `data` столбец `total_income_category` с категориями:**\n",
    "\n",
    "- 0–30000 — `'E'`;\n",
    "- 30001–50000 — `'D'`;\n",
    "- 50001–200000 — `'C'`;\n",
    "- 200001–1000000 — `'B'`;\n",
    "- 1000001 и выше — `'A'`.\n",
    "\n",
    "\n",
    "**Например, кредитополучателю с доходом 25000 нужно назначить категорию `'E'`, а клиенту, получающему 235000, — `'B'`. Используем собственную функцию с именем `categorize_income()` и метод `apply()`.**"
   ]
  },
  {
   "cell_type": "code",
   "execution_count": 17,
   "id": "90e5f1e3",
   "metadata": {
    "deletable": false,
    "id": "e1771346"
   },
   "outputs": [],
   "source": [
    "def categorize_income(income):\n",
    "    try:\n",
    "        if 0 <= income <= 30000:\n",
    "            return 'E'\n",
    "        elif 30001 <= income <= 50000:\n",
    "            return 'D'\n",
    "        elif 50001 <= income <= 200000:\n",
    "            return 'C'\n",
    "        elif 200001 <= income <= 1000000:\n",
    "            return 'B'\n",
    "        elif income >= 1000001:\n",
    "            return 'A'\n",
    "    except:\n",
    "        pass"
   ]
  },
  {
   "cell_type": "code",
   "execution_count": 18,
   "id": "b4afa039",
   "metadata": {
    "deletable": false,
    "id": "d5f3586d"
   },
   "outputs": [],
   "source": [
    "data['total_income_category'] = data['total_income'].apply(categorize_income)"
   ]
  },
  {
   "cell_type": "markdown",
   "id": "8db8e6f7",
   "metadata": {
    "id": "dde49b5c"
   },
   "source": [
    "**Выведем на экран перечень уникальных целей взятия кредита из столбца `purpose`.**"
   ]
  },
  {
   "cell_type": "code",
   "execution_count": 19,
   "id": "9c04f681",
   "metadata": {
    "deletable": false,
    "id": "f67ce9b3",
    "outputId": "673c12d9-7d7e-4ae0-9812-c622c89dd244"
   },
   "outputs": [
    {
     "data": {
      "text/plain": [
       "array(['покупка жилья', 'приобретение автомобиля',\n",
       "       'дополнительное образование', 'сыграть свадьбу',\n",
       "       'операции с жильем', 'образование', 'на проведение свадьбы',\n",
       "       'покупка жилья для семьи', 'покупка недвижимости',\n",
       "       'покупка коммерческой недвижимости', 'покупка жилой недвижимости',\n",
       "       'строительство собственной недвижимости', 'недвижимость',\n",
       "       'строительство недвижимости', 'на покупку подержанного автомобиля',\n",
       "       'на покупку своего автомобиля',\n",
       "       'операции с коммерческой недвижимостью',\n",
       "       'строительство жилой недвижимости', 'жилье',\n",
       "       'операции со своей недвижимостью', 'автомобили',\n",
       "       'заняться образованием', 'сделка с подержанным автомобилем',\n",
       "       'получение образования', 'автомобиль', 'свадьба',\n",
       "       'получение дополнительного образования', 'покупка своего жилья',\n",
       "       'операции с недвижимостью', 'получение высшего образования',\n",
       "       'свой автомобиль', 'сделка с автомобилем',\n",
       "       'профильное образование', 'высшее образование',\n",
       "       'покупка жилья для сдачи', 'на покупку автомобиля', 'ремонт жилью',\n",
       "       'заняться высшим образованием'], dtype=object)"
      ]
     },
     "execution_count": 19,
     "metadata": {},
     "output_type": "execute_result"
    }
   ],
   "source": [
    "data['purpose'].unique()"
   ]
  },
  {
   "cell_type": "markdown",
   "id": "cc73543e",
   "metadata": {
    "id": "85d0aef0"
   },
   "source": [
    "**Создадим функцию, которая на основании данных из столбца `purpose` сформирует новый столбец `purpose_category`, в который войдут следующие категории:**\n",
    "\n",
    "- `'операции с автомобилем'`,\n",
    "- `'операции с недвижимостью'`,\n",
    "- `'проведение свадьбы'`,\n",
    "- `'получение образования'`.\n",
    "\n",
    "**Например, если в столбце `purpose` находится подстрока `'на покупку автомобиля'`, то в столбце `purpose_category` должна появиться строка `'операции с автомобилем'`.**\n",
    "\n",
    "**Используем собственную функцию с именем `categorize_purpose()` и метод `apply()`.**"
   ]
  },
  {
   "cell_type": "code",
   "execution_count": 20,
   "id": "3745fea4",
   "metadata": {
    "deletable": false,
    "id": "e149fab4"
   },
   "outputs": [],
   "source": [
    "def categorize_purpose(row):\n",
    "    try:\n",
    "        if 'автом' in row:\n",
    "            return 'операции с автомобилем'\n",
    "        elif 'жил' in row or 'недвиж' in row:\n",
    "            return 'операции с недвижимостью'\n",
    "        elif 'свад' in row:\n",
    "            return 'проведение свадьбы'\n",
    "        elif 'образов' in row:\n",
    "            return 'получение образования'\n",
    "    except:\n",
    "        return 'нет категории'"
   ]
  },
  {
   "cell_type": "code",
   "execution_count": 21,
   "id": "b5fc4e9a",
   "metadata": {
    "deletable": false,
    "id": "bf36e69b"
   },
   "outputs": [],
   "source": [
    "data['purpose_category'] = data['purpose'].apply(categorize_purpose)"
   ]
  },
  {
   "cell_type": "markdown",
   "id": "38d4cff4",
   "metadata": {
    "id": "09b242bf"
   },
   "source": [
    "## Исследуем данные и ответим на вопросы"
   ]
  },
  {
   "cell_type": "markdown",
   "id": "891842e5",
   "metadata": {
    "id": "c5d66278"
   },
   "source": [
    "### Есть ли зависимость между количеством детей и возвратом кредита в срок?"
   ]
  },
  {
   "cell_type": "code",
   "execution_count": 22,
   "id": "995d72d3",
   "metadata": {
    "deletable": false,
    "id": "2cacfc4a",
    "scrolled": true
   },
   "outputs": [
    {
     "data": {
      "text/html": [
       "<div>\n",
       "<style scoped>\n",
       "    .dataframe tbody tr th:only-of-type {\n",
       "        vertical-align: middle;\n",
       "    }\n",
       "\n",
       "    .dataframe tbody tr th {\n",
       "        vertical-align: top;\n",
       "    }\n",
       "\n",
       "    .dataframe thead th {\n",
       "        text-align: right;\n",
       "    }\n",
       "</style>\n",
       "<table border=\"1\" class=\"dataframe\">\n",
       "  <thead>\n",
       "    <tr style=\"text-align: right;\">\n",
       "      <th></th>\n",
       "      <th>credits_count</th>\n",
       "      <th>delay_count</th>\n",
       "      <th>percentage_of_delay</th>\n",
       "      <th>part_all_credits</th>\n",
       "    </tr>\n",
       "    <tr>\n",
       "      <th>children_category</th>\n",
       "      <th></th>\n",
       "      <th></th>\n",
       "      <th></th>\n",
       "      <th></th>\n",
       "    </tr>\n",
       "  </thead>\n",
       "  <tbody>\n",
       "    <tr>\n",
       "      <th>1 ребенок</th>\n",
       "      <td>4808</td>\n",
       "      <td>444</td>\n",
       "      <td>9.2%</td>\n",
       "      <td>22.5%</td>\n",
       "    </tr>\n",
       "    <tr>\n",
       "      <th>2 ребенка</th>\n",
       "      <td>2052</td>\n",
       "      <td>194</td>\n",
       "      <td>9.5%</td>\n",
       "      <td>9.6%</td>\n",
       "    </tr>\n",
       "    <tr>\n",
       "      <th>3 и более детей</th>\n",
       "      <td>380</td>\n",
       "      <td>31</td>\n",
       "      <td>8.2%</td>\n",
       "      <td>1.8%</td>\n",
       "    </tr>\n",
       "    <tr>\n",
       "      <th>без детей</th>\n",
       "      <td>14091</td>\n",
       "      <td>1063</td>\n",
       "      <td>7.5%</td>\n",
       "      <td>66.1%</td>\n",
       "    </tr>\n",
       "    <tr>\n",
       "      <th>All</th>\n",
       "      <td>21331</td>\n",
       "      <td>1732</td>\n",
       "      <td>8.1%</td>\n",
       "      <td>100%</td>\n",
       "    </tr>\n",
       "  </tbody>\n",
       "</table>\n",
       "</div>"
      ],
      "text/plain": [
       "                   credits_count  delay_count percentage_of_delay  \\\n",
       "children_category                                                   \n",
       "1 ребенок                   4808          444                9.2%   \n",
       "2 ребенка                   2052          194                9.5%   \n",
       "3 и более детей              380           31                8.2%   \n",
       "без детей                  14091         1063                7.5%   \n",
       "All                        21331         1732                8.1%   \n",
       "\n",
       "                  part_all_credits  \n",
       "children_category                   \n",
       "1 ребенок                    22.5%  \n",
       "2 ребенка                     9.6%  \n",
       "3 и более детей               1.8%  \n",
       "без детей                    66.1%  \n",
       "All                           100%  "
      ]
     },
     "metadata": {},
     "output_type": "display_data"
    }
   ],
   "source": [
    "#функция по разделению заемщиков на категории в зависимости от количества детей\n",
    "def categorize_children(children):\n",
    "    try:\n",
    "        if children == 0:\n",
    "            return \"без детей\"\n",
    "        elif children == 1:\n",
    "            return \"1 ребенок\"\n",
    "        elif children == 2:\n",
    "            return \"2 ребенка\"\n",
    "        elif children >= 3:\n",
    "            return \"3 и более детей\"\n",
    "    except:\n",
    "        pass\n",
    "\n",
    "#категорирование данных по количеству детей    \n",
    "data['children_category'] = data['children'].apply(categorize_children)    \n",
    "\n",
    "#\n",
    "#функция для создания и вывода сводной таблицы к заданному df и по нужным категориям и значениям. Ниже описан ее функционал.\n",
    "#def analytical_table(df, index_in, values_in)\n",
    "\n",
    "# #функция по преобразованию среднего арифметического значения в проценты (используется в pivot_tabel вместо функции mean)    \n",
    "#def make_percent_mean(series):\n",
    "#    return round(series.mean()*100, 1).astype(str) + '%'\n",
    "\n",
    "# #преобразование любого столбца в проценты\n",
    "# def make_percent_parts(series_part):\n",
    "#     return round(series_part * 100, 1).astype(str) + '%'\n",
    "\n",
    "# #создание сводной таблицы\n",
    "# data_pivot = data.pivot_table(index=[index_in], values=values_in, aggfunc=['count', 'sum', make_percent_mean], margins=True)\n",
    "\n",
    "# #создание столбца с долей кредитов по категориям (общее количество)\n",
    "# data_pivot['part_all_credits'] = make_percent_parts(df[index_in].value_counts() / df[index_in].count())\n",
    "\n",
    "# #заполнение пропуска в итоговой строке на 100%\n",
    "# data_pivot['part_all_credits'] = data_pivot['part_all_credits'].fillna('100%')\n",
    "\n",
    "# #переименование столбцов сводной таблицы: соединение мультииндекса в один и затем присвоение нового имени\n",
    "#data_pivot.columns = [\"\".join((a, b)) for a, b in data_pivot.columns]\n",
    "#data_pivot = data_pivot.rename(columns={'countdebt': 'credits_count', 'sumdebt': 'delay_count', 'makepercent_meandebt': 'percentage_of_delay', 'make_percent_meandebt': 'percentage_of_delay'})\n",
    "\n",
    "# #вывод сводной таблицы\n",
    "# data_pivot\n",
    "#\n",
    "\n",
    "def analytical_table(df, index_in, values_in):\n",
    "    def make_percent_mean(series):\n",
    "        return round(series.mean()*100, 1).astype(str) + '%'\n",
    "    def make_percent_parts(series_part):\n",
    "        return round(series_part * 100, 1).astype(str) + '%'\n",
    "    data_pivot = df.pivot_table(index=[index_in], values=values_in, aggfunc=['count', 'sum', make_percent_mean], margins=True)\n",
    "    data_pivot['part_all_credits'] = make_percent_parts(df[index_in].value_counts() / df[index_in].count())\n",
    "    data_pivot['part_all_credits'] = data_pivot['part_all_credits'].fillna('100%')\n",
    "    data_pivot.columns = [\"\".join((a, b)) for a, b in data_pivot.columns]\n",
    "    data_pivot = data_pivot.rename(columns={'countdebt': 'credits_count', 'sumdebt': 'delay_count', 'make_percent_meandebt': \\\n",
    "                                            'percentage_of_delay', 'make_percent_meandebt': 'percentage_of_delay'})\n",
    "    display(data_pivot)\n",
    "\n",
    "#вызов функции и вывод сводной таблицы с ее помощью\n",
    "analytical_table(data, 'children_category', 'debt')\n",
    "\n"
   ]
  },
  {
   "cell_type": "markdown",
   "id": "d2b99382",
   "metadata": {
    "deletable": false,
    "id": "3a6b99ec"
   },
   "source": [
    "**Вывод:** \n",
    "- больше всего кредитов берут люди без детей (66,1% всех кредитов). \n",
    "- меньше всего кредитов берут люди с 3 и более детьми (1,8% всех кредитов).\n",
    "- меньше всего просрочек допускают люди без детей (по 7,5% кредитов были допущены просрочки, что даже ниже среднего уровня в целом по всем кредитам).\n",
    "- в целом, процент просрочек несильно отличается в зависимости от количества детей. Разница между минимальной и максимальной долей просрочки составляет 2 п.п.\n",
    "\n",
    "Т.о. количество детей имеет существенное влияние на количество кредитов, т.к. зависимость в данном случае обратная (меньше детей - больше кредитов). Зависимость возвратности от количества детей незначительная."
   ]
  },
  {
   "cell_type": "markdown",
   "id": "c59276d5",
   "metadata": {
    "id": "97be82ca"
   },
   "source": [
    "### Есть ли зависимость между семейным положением и возвратом кредита в срок?"
   ]
  },
  {
   "cell_type": "code",
   "execution_count": 23,
   "id": "37793776",
   "metadata": {
    "deletable": false,
    "id": "dc3f7ee8"
   },
   "outputs": [
    {
     "data": {
      "text/html": [
       "<div>\n",
       "<style scoped>\n",
       "    .dataframe tbody tr th:only-of-type {\n",
       "        vertical-align: middle;\n",
       "    }\n",
       "\n",
       "    .dataframe tbody tr th {\n",
       "        vertical-align: top;\n",
       "    }\n",
       "\n",
       "    .dataframe thead th {\n",
       "        text-align: right;\n",
       "    }\n",
       "</style>\n",
       "<table border=\"1\" class=\"dataframe\">\n",
       "  <thead>\n",
       "    <tr style=\"text-align: right;\">\n",
       "      <th></th>\n",
       "      <th>credits_count</th>\n",
       "      <th>delay_count</th>\n",
       "      <th>percentage_of_delay</th>\n",
       "      <th>part_all_credits</th>\n",
       "    </tr>\n",
       "    <tr>\n",
       "      <th>family_status_category</th>\n",
       "      <th></th>\n",
       "      <th></th>\n",
       "      <th></th>\n",
       "      <th></th>\n",
       "    </tr>\n",
       "  </thead>\n",
       "  <tbody>\n",
       "    <tr>\n",
       "      <th>Не состояли в браке</th>\n",
       "      <td>6930</td>\n",
       "      <td>658</td>\n",
       "      <td>9.5%</td>\n",
       "      <td>32.5%</td>\n",
       "    </tr>\n",
       "    <tr>\n",
       "      <th>Состояли в браке</th>\n",
       "      <td>14401</td>\n",
       "      <td>1074</td>\n",
       "      <td>7.5%</td>\n",
       "      <td>67.5%</td>\n",
       "    </tr>\n",
       "    <tr>\n",
       "      <th>All</th>\n",
       "      <td>21331</td>\n",
       "      <td>1732</td>\n",
       "      <td>8.1%</td>\n",
       "      <td>100%</td>\n",
       "    </tr>\n",
       "  </tbody>\n",
       "</table>\n",
       "</div>"
      ],
      "text/plain": [
       "                        credits_count  delay_count percentage_of_delay  \\\n",
       "family_status_category                                                   \n",
       "Не состояли в браке              6930          658                9.5%   \n",
       "Состояли в браке                14401         1074                7.5%   \n",
       "All                             21331         1732                8.1%   \n",
       "\n",
       "                       part_all_credits  \n",
       "family_status_category                   \n",
       "Не состояли в браке               32.5%  \n",
       "Состояли в браке                  67.5%  \n",
       "All                                100%  "
      ]
     },
     "metadata": {},
     "output_type": "display_data"
    },
    {
     "data": {
      "text/plain": [
       "None"
      ]
     },
     "metadata": {},
     "output_type": "display_data"
    },
    {
     "data": {
      "text/html": [
       "<div>\n",
       "<style scoped>\n",
       "    .dataframe tbody tr th:only-of-type {\n",
       "        vertical-align: middle;\n",
       "    }\n",
       "\n",
       "    .dataframe tbody tr th {\n",
       "        vertical-align: top;\n",
       "    }\n",
       "\n",
       "    .dataframe thead th {\n",
       "        text-align: right;\n",
       "    }\n",
       "</style>\n",
       "<table border=\"1\" class=\"dataframe\">\n",
       "  <thead>\n",
       "    <tr style=\"text-align: right;\">\n",
       "      <th></th>\n",
       "      <th>credits_count</th>\n",
       "      <th>delay_count</th>\n",
       "      <th>percentage_of_delay</th>\n",
       "      <th>part_all_credits</th>\n",
       "    </tr>\n",
       "    <tr>\n",
       "      <th>family_status</th>\n",
       "      <th></th>\n",
       "      <th></th>\n",
       "      <th></th>\n",
       "      <th></th>\n",
       "    </tr>\n",
       "  </thead>\n",
       "  <tbody>\n",
       "    <tr>\n",
       "      <th>Не женат / не замужем</th>\n",
       "      <td>2796</td>\n",
       "      <td>273</td>\n",
       "      <td>9.8%</td>\n",
       "      <td>13.1%</td>\n",
       "    </tr>\n",
       "    <tr>\n",
       "      <th>в разводе</th>\n",
       "      <td>1189</td>\n",
       "      <td>84</td>\n",
       "      <td>7.1%</td>\n",
       "      <td>5.6%</td>\n",
       "    </tr>\n",
       "    <tr>\n",
       "      <th>вдовец / вдова</th>\n",
       "      <td>951</td>\n",
       "      <td>63</td>\n",
       "      <td>6.6%</td>\n",
       "      <td>4.5%</td>\n",
       "    </tr>\n",
       "    <tr>\n",
       "      <th>гражданский брак</th>\n",
       "      <td>4134</td>\n",
       "      <td>385</td>\n",
       "      <td>9.3%</td>\n",
       "      <td>19.4%</td>\n",
       "    </tr>\n",
       "    <tr>\n",
       "      <th>женат / замужем</th>\n",
       "      <td>12261</td>\n",
       "      <td>927</td>\n",
       "      <td>7.6%</td>\n",
       "      <td>57.5%</td>\n",
       "    </tr>\n",
       "    <tr>\n",
       "      <th>All</th>\n",
       "      <td>21331</td>\n",
       "      <td>1732</td>\n",
       "      <td>8.1%</td>\n",
       "      <td>100%</td>\n",
       "    </tr>\n",
       "  </tbody>\n",
       "</table>\n",
       "</div>"
      ],
      "text/plain": [
       "                       credits_count  delay_count percentage_of_delay  \\\n",
       "family_status                                                           \n",
       "Не женат / не замужем           2796          273                9.8%   \n",
       "в разводе                       1189           84                7.1%   \n",
       "вдовец / вдова                   951           63                6.6%   \n",
       "гражданский брак                4134          385                9.3%   \n",
       "женат / замужем                12261          927                7.6%   \n",
       "All                            21331         1732                8.1%   \n",
       "\n",
       "                      part_all_credits  \n",
       "family_status                           \n",
       "Не женат / не замужем            13.1%  \n",
       "в разводе                         5.6%  \n",
       "вдовец / вдова                    4.5%  \n",
       "гражданский брак                 19.4%  \n",
       "женат / замужем                  57.5%  \n",
       "All                               100%  "
      ]
     },
     "metadata": {},
     "output_type": "display_data"
    },
    {
     "data": {
      "text/plain": [
       "None"
      ]
     },
     "metadata": {},
     "output_type": "display_data"
    }
   ],
   "source": [
    "#функция категорирования на людей состоящих в браке и на тех, кто никогда не был женат/замужем\n",
    "def family_status_categorize(status):\n",
    "    try:\n",
    "        if status == 'Не женат / не замужем' or status == 'гражданский брак':\n",
    "            return 'Не состояли в браке'\n",
    "        elif status == 'в разводе' or status == 'вдовец / вдова' or status == 'женат / замужем':\n",
    "            return 'Состояли в браке'\n",
    "    \n",
    "    except:\n",
    "        pass\n",
    "\n",
    "#добавление в датафрейм нового столбца с укрупненной категорией семейного положения\n",
    "data['family_status_category'] = data['family_status'].apply(family_status_categorize)\n",
    "\n",
    "display(analytical_table(data, 'family_status_category', 'debt'))\n",
    "display(analytical_table(data, 'family_status', 'debt'))\n"
   ]
  },
  {
   "cell_type": "markdown",
   "id": "804087f8",
   "metadata": {
    "deletable": false,
    "id": "1cef7837"
   },
   "source": [
    "**Вывод:** \n",
    "- наибольшее количество кредитов приходится на людей, когда-либо состоявших в браке (67,5%);\n",
    "- люди, которые когда-либо были в браке или состоят в нем имеют наименьший процент просрочки (7,5%);\n",
    "- люди, никогда не состоявшие в официальном браке допускают просрочку чаще (доля просрочек 9,5%).\n",
    "- наименьшее количество просрочек допускают вдовцы / вдовы (6,6%), а наимбольшее не женатые / не замужние люди (9,8%).\n",
    "\n",
    "Т.о., люди, имевшие ранее зарегистрированные отношения допускают просрочек меньше, что, возможно, объясняется их более высоким уровнем ответственности."
   ]
  },
  {
   "cell_type": "markdown",
   "id": "a1351e53",
   "metadata": {
    "id": "1e8b2fca"
   },
   "source": [
    "### Есть ли зависимость между уровнем дохода и возвратом кредита в срок?"
   ]
  },
  {
   "cell_type": "code",
   "execution_count": 24,
   "id": "b8f5137a",
   "metadata": {
    "deletable": false,
    "id": "cd7e3720"
   },
   "outputs": [
    {
     "data": {
      "text/html": [
       "<div>\n",
       "<style scoped>\n",
       "    .dataframe tbody tr th:only-of-type {\n",
       "        vertical-align: middle;\n",
       "    }\n",
       "\n",
       "    .dataframe tbody tr th {\n",
       "        vertical-align: top;\n",
       "    }\n",
       "\n",
       "    .dataframe thead th {\n",
       "        text-align: right;\n",
       "    }\n",
       "</style>\n",
       "<table border=\"1\" class=\"dataframe\">\n",
       "  <thead>\n",
       "    <tr style=\"text-align: right;\">\n",
       "      <th></th>\n",
       "      <th>credits_count</th>\n",
       "      <th>delay_count</th>\n",
       "      <th>percentage_of_delay</th>\n",
       "      <th>part_all_credits</th>\n",
       "    </tr>\n",
       "    <tr>\n",
       "      <th>total_income_category_new</th>\n",
       "      <th></th>\n",
       "      <th></th>\n",
       "      <th></th>\n",
       "      <th></th>\n",
       "    </tr>\n",
       "  </thead>\n",
       "  <tbody>\n",
       "    <tr>\n",
       "      <th>108050.0 - 142594 рублей</th>\n",
       "      <td>5391</td>\n",
       "      <td>475</td>\n",
       "      <td>8.8%</td>\n",
       "      <td>25.3%</td>\n",
       "    </tr>\n",
       "    <tr>\n",
       "      <th>142594.0 - 196641.5 рублей</th>\n",
       "      <td>5274</td>\n",
       "      <td>450</td>\n",
       "      <td>8.5%</td>\n",
       "      <td>24.7%</td>\n",
       "    </tr>\n",
       "    <tr>\n",
       "      <th>больше 196641.5 рублей</th>\n",
       "      <td>5274</td>\n",
       "      <td>375</td>\n",
       "      <td>7.1%</td>\n",
       "      <td>24.7%</td>\n",
       "    </tr>\n",
       "    <tr>\n",
       "      <th>меньше 108050 рублей</th>\n",
       "      <td>5392</td>\n",
       "      <td>432</td>\n",
       "      <td>8.0%</td>\n",
       "      <td>25.3%</td>\n",
       "    </tr>\n",
       "    <tr>\n",
       "      <th>All</th>\n",
       "      <td>21331</td>\n",
       "      <td>1732</td>\n",
       "      <td>8.1%</td>\n",
       "      <td>100%</td>\n",
       "    </tr>\n",
       "  </tbody>\n",
       "</table>\n",
       "</div>"
      ],
      "text/plain": [
       "                            credits_count  delay_count percentage_of_delay  \\\n",
       "total_income_category_new                                                    \n",
       "108050.0 - 142594 рублей             5391          475                8.8%   \n",
       "142594.0 - 196641.5 рублей           5274          450                8.5%   \n",
       "больше 196641.5 рублей               5274          375                7.1%   \n",
       "меньше 108050 рублей                 5392          432                8.0%   \n",
       "All                                 21331         1732                8.1%   \n",
       "\n",
       "                           part_all_credits  \n",
       "total_income_category_new                    \n",
       "108050.0 - 142594 рублей              25.3%  \n",
       "142594.0 - 196641.5 рублей            24.7%  \n",
       "больше 196641.5 рублей                24.7%  \n",
       "меньше 108050 рублей                  25.3%  \n",
       "All                                    100%  "
      ]
     },
     "metadata": {},
     "output_type": "display_data"
    },
    {
     "data": {
      "text/plain": [
       "None"
      ]
     },
     "metadata": {},
     "output_type": "display_data"
    },
    {
     "data": {
      "text/html": [
       "<div>\n",
       "<style scoped>\n",
       "    .dataframe tbody tr th:only-of-type {\n",
       "        vertical-align: middle;\n",
       "    }\n",
       "\n",
       "    .dataframe tbody tr th {\n",
       "        vertical-align: top;\n",
       "    }\n",
       "\n",
       "    .dataframe thead th {\n",
       "        text-align: right;\n",
       "    }\n",
       "</style>\n",
       "<table border=\"1\" class=\"dataframe\">\n",
       "  <thead>\n",
       "    <tr style=\"text-align: right;\">\n",
       "      <th></th>\n",
       "      <th>credits_count</th>\n",
       "      <th>delay_count</th>\n",
       "      <th>percentage_of_delay</th>\n",
       "      <th>part_all_credits</th>\n",
       "    </tr>\n",
       "    <tr>\n",
       "      <th>total_income_category</th>\n",
       "      <th></th>\n",
       "      <th></th>\n",
       "      <th></th>\n",
       "      <th></th>\n",
       "    </tr>\n",
       "  </thead>\n",
       "  <tbody>\n",
       "    <tr>\n",
       "      <th>A</th>\n",
       "      <td>25</td>\n",
       "      <td>2</td>\n",
       "      <td>8.0%</td>\n",
       "      <td>0.1%</td>\n",
       "    </tr>\n",
       "    <tr>\n",
       "      <th>B</th>\n",
       "      <td>5014</td>\n",
       "      <td>354</td>\n",
       "      <td>7.1%</td>\n",
       "      <td>23.5%</td>\n",
       "    </tr>\n",
       "    <tr>\n",
       "      <th>C</th>\n",
       "      <td>15921</td>\n",
       "      <td>1353</td>\n",
       "      <td>8.5%</td>\n",
       "      <td>74.6%</td>\n",
       "    </tr>\n",
       "    <tr>\n",
       "      <th>D</th>\n",
       "      <td>349</td>\n",
       "      <td>21</td>\n",
       "      <td>6.0%</td>\n",
       "      <td>1.6%</td>\n",
       "    </tr>\n",
       "    <tr>\n",
       "      <th>E</th>\n",
       "      <td>22</td>\n",
       "      <td>2</td>\n",
       "      <td>9.1%</td>\n",
       "      <td>0.1%</td>\n",
       "    </tr>\n",
       "    <tr>\n",
       "      <th>All</th>\n",
       "      <td>21331</td>\n",
       "      <td>1732</td>\n",
       "      <td>8.1%</td>\n",
       "      <td>100%</td>\n",
       "    </tr>\n",
       "  </tbody>\n",
       "</table>\n",
       "</div>"
      ],
      "text/plain": [
       "                       credits_count  delay_count percentage_of_delay  \\\n",
       "total_income_category                                                   \n",
       "A                                 25            2                8.0%   \n",
       "B                               5014          354                7.1%   \n",
       "C                              15921         1353                8.5%   \n",
       "D                                349           21                6.0%   \n",
       "E                                 22            2                9.1%   \n",
       "All                            21331         1732                8.1%   \n",
       "\n",
       "                      part_all_credits  \n",
       "total_income_category                   \n",
       "A                                 0.1%  \n",
       "B                                23.5%  \n",
       "C                                74.6%  \n",
       "D                                 1.6%  \n",
       "E                                 0.1%  \n",
       "All                               100%  "
      ]
     },
     "metadata": {},
     "output_type": "display_data"
    },
    {
     "data": {
      "text/plain": [
       "None"
      ]
     },
     "metadata": {},
     "output_type": "display_data"
    }
   ],
   "source": [
    "#создадим новую функцию категорирования данных по доходу, т.к. в настоящий момент в категорию \"С\" попадает слишком большой объем выборки\n",
    "#отсортируем список по убыванию дохода\n",
    "data_sorted = data.sort_values(by='total_income', ascending=False)\n",
    "#найдем медианное значение дохода\n",
    "data_sorted_total_income_median = data_sorted['total_income'].median()\n",
    "#выделим людей, имеющих доход ниже медианного (включительно) и найдем там медиану\n",
    "data_sorted_total_income_lower_middle = data_sorted.loc[data_sorted['total_income'] <= data_sorted_total_income_median]\n",
    "data_sorted_total_income_lower_middle_median = data_sorted_total_income_lower_middle['total_income'].median()\n",
    "#выделим людей, имеющих доход выше медианного (включительно) и найдем там медиану\n",
    "data_sorted_total_income_higher_middle = data_sorted.loc[data_sorted['total_income'] > data_sorted_total_income_median]\n",
    "data_sorted_total_income_higher_middle_median = data_sorted_total_income_higher_middle['total_income'].median()\n",
    "\n",
    "#функция категорирования дохода по медианным значениям.\n",
    "def categorize_income_new(income):\n",
    "    try:\n",
    "        if 0 <= income <= 108050.0:\n",
    "            return 'меньше 108050 рублей'\n",
    "        elif 108050.0 < income <= 142594.0:\n",
    "            return '108050.0 - 142594 рублей'\n",
    "        elif 142594.0 < income <= 196641.5:\n",
    "            return '142594.0 - 196641.5 рублей'\n",
    "        elif 196641.5 < income:\n",
    "            return 'больше 196641.5 рублей'        \n",
    "    except:\n",
    "        pass\n",
    "\n",
    "#создание в основном датафрейме столбца с категорией\n",
    "data['total_income_category_new'] = data['total_income'].apply(categorize_income_new)\n",
    "\n",
    "#вывод сводной таблицы с новыми категориями\n",
    "display(analytical_table(data, 'total_income_category_new', 'debt'))\n",
    "\n",
    "#вывод сводной таблицы со старыми категориями\n",
    "display(analytical_table(data, 'total_income_category', 'debt'))"
   ]
  },
  {
   "cell_type": "markdown",
   "id": "15230f3d",
   "metadata": {
    "deletable": false,
    "id": "e8593def"
   },
   "source": [
    "**Вывод:** \n",
    "- наименьшее количество просрочек допускают люди с высоким доходом - 7,1%\n",
    "- люди, допускающие просрочки чаще всего, по доходу находятся в середине выборки\n",
    "- при этом, разница между долей просроченных платежей между группами несущественная (между минимальным и максимальным значением около 2%)\n",
    "\n",
    "Т.о., зависимость между доходом и уровнем просрочек неочевидна."
   ]
  },
  {
   "cell_type": "markdown",
   "id": "72cddb40",
   "metadata": {
    "id": "99ecbd1f"
   },
   "source": [
    "### Как разные цели кредита влияют на его возврат в срок?"
   ]
  },
  {
   "cell_type": "code",
   "execution_count": 25,
   "id": "79061065",
   "metadata": {
    "deletable": false,
    "id": "2b687290",
    "scrolled": false
   },
   "outputs": [
    {
     "data": {
      "text/html": [
       "<div>\n",
       "<style scoped>\n",
       "    .dataframe tbody tr th:only-of-type {\n",
       "        vertical-align: middle;\n",
       "    }\n",
       "\n",
       "    .dataframe tbody tr th {\n",
       "        vertical-align: top;\n",
       "    }\n",
       "\n",
       "    .dataframe thead th {\n",
       "        text-align: right;\n",
       "    }\n",
       "</style>\n",
       "<table border=\"1\" class=\"dataframe\">\n",
       "  <thead>\n",
       "    <tr style=\"text-align: right;\">\n",
       "      <th></th>\n",
       "      <th>credits_count</th>\n",
       "      <th>delay_count</th>\n",
       "      <th>percentage_of_delay</th>\n",
       "      <th>part_all_credits</th>\n",
       "    </tr>\n",
       "    <tr>\n",
       "      <th>purpose_category</th>\n",
       "      <th></th>\n",
       "      <th></th>\n",
       "      <th></th>\n",
       "      <th></th>\n",
       "    </tr>\n",
       "  </thead>\n",
       "  <tbody>\n",
       "    <tr>\n",
       "      <th>операции с автомобилем</th>\n",
       "      <td>4279</td>\n",
       "      <td>400</td>\n",
       "      <td>9.3%</td>\n",
       "      <td>20.1%</td>\n",
       "    </tr>\n",
       "    <tr>\n",
       "      <th>операции с недвижимостью</th>\n",
       "      <td>10751</td>\n",
       "      <td>780</td>\n",
       "      <td>7.3%</td>\n",
       "      <td>50.4%</td>\n",
       "    </tr>\n",
       "    <tr>\n",
       "      <th>получение образования</th>\n",
       "      <td>3988</td>\n",
       "      <td>369</td>\n",
       "      <td>9.3%</td>\n",
       "      <td>18.7%</td>\n",
       "    </tr>\n",
       "    <tr>\n",
       "      <th>проведение свадьбы</th>\n",
       "      <td>2313</td>\n",
       "      <td>183</td>\n",
       "      <td>7.9%</td>\n",
       "      <td>10.8%</td>\n",
       "    </tr>\n",
       "    <tr>\n",
       "      <th>All</th>\n",
       "      <td>21331</td>\n",
       "      <td>1732</td>\n",
       "      <td>8.1%</td>\n",
       "      <td>100%</td>\n",
       "    </tr>\n",
       "  </tbody>\n",
       "</table>\n",
       "</div>"
      ],
      "text/plain": [
       "                          credits_count  delay_count percentage_of_delay  \\\n",
       "purpose_category                                                           \n",
       "операции с автомобилем             4279          400                9.3%   \n",
       "операции с недвижимостью          10751          780                7.3%   \n",
       "получение образования              3988          369                9.3%   \n",
       "проведение свадьбы                 2313          183                7.9%   \n",
       "All                               21331         1732                8.1%   \n",
       "\n",
       "                         part_all_credits  \n",
       "purpose_category                           \n",
       "операции с автомобилем              20.1%  \n",
       "операции с недвижимостью            50.4%  \n",
       "получение образования               18.7%  \n",
       "проведение свадьбы                  10.8%  \n",
       "All                                  100%  "
      ]
     },
     "metadata": {},
     "output_type": "display_data"
    },
    {
     "data": {
      "text/plain": [
       "None"
      ]
     },
     "metadata": {},
     "output_type": "display_data"
    },
    {
     "data": {
      "text/html": [
       "<div>\n",
       "<style scoped>\n",
       "    .dataframe tbody tr th:only-of-type {\n",
       "        vertical-align: middle;\n",
       "    }\n",
       "\n",
       "    .dataframe tbody tr th {\n",
       "        vertical-align: top;\n",
       "    }\n",
       "\n",
       "    .dataframe thead th {\n",
       "        text-align: right;\n",
       "    }\n",
       "</style>\n",
       "<table border=\"1\" class=\"dataframe\">\n",
       "  <thead>\n",
       "    <tr style=\"text-align: right;\">\n",
       "      <th></th>\n",
       "      <th></th>\n",
       "      <th>credits_count</th>\n",
       "      <th>delay_count</th>\n",
       "      <th>percentage_of_delay</th>\n",
       "    </tr>\n",
       "    <tr>\n",
       "      <th>purpose_category</th>\n",
       "      <th>family_status_category</th>\n",
       "      <th></th>\n",
       "      <th></th>\n",
       "      <th></th>\n",
       "    </tr>\n",
       "  </thead>\n",
       "  <tbody>\n",
       "    <tr>\n",
       "      <th rowspan=\"2\" valign=\"top\">операции с автомобилем</th>\n",
       "      <th>Не состояли в браке</th>\n",
       "      <td>1065</td>\n",
       "      <td>133</td>\n",
       "      <td>12.5%</td>\n",
       "    </tr>\n",
       "    <tr>\n",
       "      <th>Состояли в браке</th>\n",
       "      <td>3214</td>\n",
       "      <td>267</td>\n",
       "      <td>8.3%</td>\n",
       "    </tr>\n",
       "    <tr>\n",
       "      <th rowspan=\"2\" valign=\"top\">операции с недвижимостью</th>\n",
       "      <th>Не состояли в браке</th>\n",
       "      <td>2574</td>\n",
       "      <td>220</td>\n",
       "      <td>8.5%</td>\n",
       "    </tr>\n",
       "    <tr>\n",
       "      <th>Состояли в браке</th>\n",
       "      <td>8177</td>\n",
       "      <td>560</td>\n",
       "      <td>6.8%</td>\n",
       "    </tr>\n",
       "    <tr>\n",
       "      <th rowspan=\"2\" valign=\"top\">получение образования</th>\n",
       "      <th>Не состояли в браке</th>\n",
       "      <td>978</td>\n",
       "      <td>122</td>\n",
       "      <td>12.5%</td>\n",
       "    </tr>\n",
       "    <tr>\n",
       "      <th>Состояли в браке</th>\n",
       "      <td>3010</td>\n",
       "      <td>247</td>\n",
       "      <td>8.2%</td>\n",
       "    </tr>\n",
       "    <tr>\n",
       "      <th>проведение свадьбы</th>\n",
       "      <th>Не состояли в браке</th>\n",
       "      <td>2313</td>\n",
       "      <td>183</td>\n",
       "      <td>7.9%</td>\n",
       "    </tr>\n",
       "    <tr>\n",
       "      <th>All</th>\n",
       "      <th></th>\n",
       "      <td>21331</td>\n",
       "      <td>1732</td>\n",
       "      <td>8.1%</td>\n",
       "    </tr>\n",
       "  </tbody>\n",
       "</table>\n",
       "</div>"
      ],
      "text/plain": [
       "                                                 credits_count  delay_count  \\\n",
       "purpose_category         family_status_category                               \n",
       "операции с автомобилем   Не состояли в браке              1065          133   \n",
       "                         Состояли в браке                 3214          267   \n",
       "операции с недвижимостью Не состояли в браке              2574          220   \n",
       "                         Состояли в браке                 8177          560   \n",
       "получение образования    Не состояли в браке               978          122   \n",
       "                         Состояли в браке                 3010          247   \n",
       "проведение свадьбы       Не состояли в браке              2313          183   \n",
       "All                                                      21331         1732   \n",
       "\n",
       "                                                percentage_of_delay  \n",
       "purpose_category         family_status_category                      \n",
       "операции с автомобилем   Не состояли в браке                  12.5%  \n",
       "                         Состояли в браке                      8.3%  \n",
       "операции с недвижимостью Не состояли в браке                   8.5%  \n",
       "                         Состояли в браке                      6.8%  \n",
       "получение образования    Не состояли в браке                  12.5%  \n",
       "                         Состояли в браке                      8.2%  \n",
       "проведение свадьбы       Не состояли в браке                   7.9%  \n",
       "All                                                            8.1%  "
      ]
     },
     "metadata": {},
     "output_type": "display_data"
    },
    {
     "data": {
      "text/plain": [
       "None"
      ]
     },
     "metadata": {},
     "output_type": "display_data"
    }
   ],
   "source": [
    "#создание фукнции для вывода сводной таблицы с подкатегориями\n",
    "def analytical_table_for(df, index_in_1, index_in_2, values_in):\n",
    "    def make_percent_mean(series):\n",
    "        return round(series.mean()*100, 1).astype(str) + '%'\n",
    "    data_pivot = df.pivot_table(index=[index_in_1, index_in_2], values=values_in, aggfunc=['count', 'sum', make_percent_mean], \\\n",
    "                                margins=True)\n",
    "    data_pivot.columns = [\"\".join((a, b)) for a, b in data_pivot.columns]\n",
    "    data_pivot = data_pivot.rename(columns={'countdebt': 'credits_count', 'sumdebt': 'delay_count', 'make_percent_meandebt': \\\n",
    "                                            'percentage_of_delay', 'make_percent_meandebt': 'percentage_of_delay'})\n",
    "    display(data_pivot)\n",
    "\n",
    "#вывод сводной таблицы по целям кредита без подкатегорий (первая таблица)\n",
    "display(analytical_table(data, 'purpose_category', 'debt'))\n",
    "\n",
    "#вывод сводной таблицы по целям кредита с подкатегориями (вторая таблица)\n",
    "display(analytical_table_for(data, 'purpose_category', 'family_status_category', 'debt'))"
   ]
  },
  {
   "cell_type": "markdown",
   "id": "b44d9fb8",
   "metadata": {
    "deletable": false,
    "id": "b4bb2ce6"
   },
   "source": [
    "**Вывод:** \n",
    "- наибольшее количество кредитов получено на цели операций с недвижимостью\n",
    "- наибольшее количество просрочек отмечается по кредитам на получение образования и на операции с автомобилем\n",
    "- интересно также категорировать данные дополнительно по семейному положению. Люди в браке допускают просрочек по всем видам кредитов меньше, чем люди, не состоявшие в браке. При этом, люди, которые не состояли в браке, но берут кредит на проведение свадьбы, в последующем допускают просрочек также, как и люди в браке.\n",
    "- также стоит отметить, что люди, ранее разведенные или вдовы / вдовцы не берут кредитов на проведение свадьбы."
   ]
  },
  {
   "cell_type": "markdown",
   "id": "b0cf7794",
   "metadata": {
    "id": "09c3ac4c"
   },
   "source": [
    "### Приведем возможные причины появления пропусков в исходных данных."
   ]
  },
  {
   "cell_type": "code",
   "execution_count": 26,
   "id": "4d67286d",
   "metadata": {},
   "outputs": [
    {
     "data": {
      "text/plain": [
       "children               0\n",
       "days_employed       2174\n",
       "dob_years              0\n",
       "education              0\n",
       "education_id           0\n",
       "family_status          0\n",
       "family_status_id       0\n",
       "gender                 0\n",
       "income_type            0\n",
       "debt                   0\n",
       "total_income        2174\n",
       "purpose                0\n",
       "dtype: int64"
      ]
     },
     "execution_count": 26,
     "metadata": {},
     "output_type": "execute_result"
    }
   ],
   "source": [
    "try:\n",
    "    data_theory = pd.read_csv('/datasets/data.csv')\n",
    "except:\n",
    "    data_theory = pd.read_csv('https://code.s3.yandex.net/datasets/data.csv')\n",
    "\n",
    "data_theory.isna().sum()\n"
   ]
  },
  {
   "cell_type": "markdown",
   "id": "16c0f596",
   "metadata": {
    "deletable": false,
    "id": "9da2ceda"
   },
   "source": [
    "Пропуски были выявлены в столбцах days_employed (трудовой стаж) и total_income (общий доход). При чем их количество одинаковое по (2174 штуки). Возможно, имеется некоторая зависимость между указанными столбцами и другими данными, а сами пропуски допущены в одних и тех же строках."
   ]
  },
  {
   "cell_type": "code",
   "execution_count": 27,
   "id": "158aaf7a",
   "metadata": {},
   "outputs": [
    {
     "data": {
      "text/plain": [
       "2174"
      ]
     },
     "execution_count": 27,
     "metadata": {},
     "output_type": "execute_result"
    }
   ],
   "source": [
    "#Отфильтруем данные только по строкам с пропусками в указанных столбцах\n",
    "data_theory = data_theory.loc[(data_theory['days_employed'].isnull()) & (data_theory['total_income'].isnull())]\n",
    "\n",
    "#выведем количество строк в датафрейме\n",
    "len(data_theory)"
   ]
  },
  {
   "cell_type": "markdown",
   "id": "0822e080",
   "metadata": {},
   "source": [
    "В отфильтрованном датафрейме, содержащем одновременно пропуски в столбцах days_employed и total_income, столько же строк, сколько и пропусков в основном датафрейме. Логично, что пропуски содержатся в одинаковых строках. \n",
    "Т.о., зависимость возникновения пропусков от иных данных таблицы подтверждается.\n",
    "Попробуем создать сводные таблицы с данными по критерию источника доходов"
   ]
  },
  {
   "cell_type": "code",
   "execution_count": 28,
   "id": "5724592d",
   "metadata": {},
   "outputs": [
    {
     "data": {
      "text/html": [
       "<div>\n",
       "<style scoped>\n",
       "    .dataframe tbody tr th:only-of-type {\n",
       "        vertical-align: middle;\n",
       "    }\n",
       "\n",
       "    .dataframe tbody tr th {\n",
       "        vertical-align: top;\n",
       "    }\n",
       "\n",
       "    .dataframe thead tr th {\n",
       "        text-align: left;\n",
       "    }\n",
       "\n",
       "    .dataframe thead tr:last-of-type th {\n",
       "        text-align: right;\n",
       "    }\n",
       "</style>\n",
       "<table border=\"1\" class=\"dataframe\">\n",
       "  <thead>\n",
       "    <tr>\n",
       "      <th></th>\n",
       "      <th>count</th>\n",
       "    </tr>\n",
       "    <tr>\n",
       "      <th></th>\n",
       "      <th>total_income</th>\n",
       "    </tr>\n",
       "    <tr>\n",
       "      <th>income_type</th>\n",
       "      <th></th>\n",
       "    </tr>\n",
       "  </thead>\n",
       "  <tbody>\n",
       "    <tr>\n",
       "      <th>госслужащий</th>\n",
       "      <td>147</td>\n",
       "    </tr>\n",
       "    <tr>\n",
       "      <th>компаньон</th>\n",
       "      <td>508</td>\n",
       "    </tr>\n",
       "    <tr>\n",
       "      <th>пенсионер</th>\n",
       "      <td>413</td>\n",
       "    </tr>\n",
       "    <tr>\n",
       "      <th>предприниматель</th>\n",
       "      <td>1</td>\n",
       "    </tr>\n",
       "    <tr>\n",
       "      <th>сотрудник</th>\n",
       "      <td>1105</td>\n",
       "    </tr>\n",
       "    <tr>\n",
       "      <th>All</th>\n",
       "      <td>2174</td>\n",
       "    </tr>\n",
       "  </tbody>\n",
       "</table>\n",
       "</div>"
      ],
      "text/plain": [
       "                       count\n",
       "                total_income\n",
       "income_type                 \n",
       "госслужащий              147\n",
       "компаньон                508\n",
       "пенсионер                413\n",
       "предприниматель            1\n",
       "сотрудник               1105\n",
       "All                     2174"
      ]
     },
     "execution_count": 28,
     "metadata": {},
     "output_type": "execute_result"
    }
   ],
   "source": [
    "data_theory['total_income'] = data_theory['total_income'].fillna(0)\n",
    "data_pivot_theory_income_type = data_theory.pivot_table(index=['income_type'], values='total_income', aggfunc=['count'], \\\n",
    "                                                        margins=True)\n",
    "data_pivot_theory_income_type"
   ]
  },
  {
   "cell_type": "markdown",
   "id": "2d58d627",
   "metadata": {},
   "source": [
    "413 пропусков в данных совершили люди, находящиеся на пенсии. Вероятно, они не имеют иного дохода, кроме пенсии, поэтому решили не указывать данную информацию.\n",
    "Остальные лица, видимо, просто не пожелали указать данную информацию, либо произошел технический сбой, в результате чего данные не попали в выбоку."
   ]
  },
  {
   "cell_type": "markdown",
   "id": "0af2fb51",
   "metadata": {
    "id": "7b0487d6"
   },
   "source": [
    "### Объясним, почему заполнить пропуски медианным значением — лучшее решение для количественных переменных."
   ]
  },
  {
   "cell_type": "markdown",
   "id": "fcdb1fe4",
   "metadata": {
    "deletable": false,
    "id": "7ecf2b8e"
   },
   "source": [
    "Заполнение пропущенных данных для количественных переменных медианным значением имеет преимущество по сравнению, например, с заполнением данных по среднему арифметическому значению, т.к. позволяет нивелировать влияние резких выбросов в данных, как то: экстремально высокие, низкие значения."
   ]
  },
  {
   "cell_type": "markdown",
   "id": "4b9b50eb",
   "metadata": {
    "id": "6db5255a"
   },
   "source": [
    "## Общий вывод."
   ]
  },
  {
   "cell_type": "markdown",
   "id": "030b6709",
   "metadata": {},
   "source": [
    "Было проведено исследование, чтобы выявить влияние разных факторов на факт погашения кредита в срок. Входные данные - статистика о платёжеспособности клиентов. Результаты исследования будут учтены при построении модели кредитного скоринга - специальносй системы, которая оценивает способность потенциального заёмщика вернуть кредит банку.\n",
    "        \n",
    "Перед проведением исследования была поставлена задача по выявлению влияния следующих факторов на возврат кредита в срок:     \n",
    "- **Фактор №1:** Количеством детей;\n",
    "- **Фактор №2:** Семейное положение;\n",
    "- **Фактор №3:** Уровень дохода;\n",
    "- **Фактор №4:** Цель кредита;\n",
    "        \n",
    "По итогу исследования выявлены следующие зависимости.\n",
    "        \n",
    "**Фактор №1. Влияние фактора подтверждено частично:** Для более точных выводов необходимо больше данных по клиентам с 3, 4 и 5 детьми.\n",
    "- 7,5% доля просроченных кредитов без детей;\n",
    "- 9,2% доля просроченных кредитов с 1 ребенком;\n",
    "- 9,5% доля просроченных кредитов с 2 детьми;\n",
    "        \n",
    "Рекомендуется провести исследование на большей выборке данных.\n",
    "        \n",
    "**Фактор №2. Влияние фактора подтверждено.**\n",
    "- Люди, состоявшие в браке ранее (в разводе, вдовец / вдова) или состоящие в браке в настоящий момент, имеют уровень просрочки ниже (7,5%). При чем данный факт подтверждается и в разрезе целей кредитования.\n",
    "- Люди, никогда не состоявшие в браке (не женат / не замужем, гражданский брак) имеют уровень просрочки в размере 9,5%.\n",
    "        \n",
    "Разница в доле просрочки между двумя пунктами 2 п.п. Таким образом, отсутствие зарегистрированных отношений увеличивает количество просроченных кредитов на 26,7%. \n",
    "При этом, необходимо учитывать, что данный фактор не является ключевым и единственным, поэтому рекомендуется устанавливать ему невысокий вес при принятии решения об уровне кредитоспособности.\n",
    "        \n",
    "**Фактор №3. Влияние фактора подтверждено частично:** Для более точных выводов необходимо больше данных по клиентам с доходом до 50 тыс.руб. (категории E, D), с доходом от 1 млн.руб. (категория А), \n",
    "- 7,1% - Наименьшая доля просроченных кредитов у заемщиков с высоким доходом (свыше 196 тыс.руб);\n",
    "- 8,8% - наибольшая доля просроченных кредитов у заемщиков с доходом немного ниже среднего (от 108 тыс.руб. до 142,6 тыс.руб.)\n",
    "        \n",
    "Рекомендуется провести исследование на большей выборке данных.\n",
    "        \n",
    "**Фактор №4. Влияние фактора подтверждено.**\n",
    "- 7,3% - доля просроченных кредитов с целью «операции с недвижимостью»;\n",
    "- 7,9% - доля просроченных кредитов с целью «проведение свадьбы»;\n",
    "- 9,3% - доля просроченных кредитов с целью «операции с автомобилем»;\n",
    "- 9,3% - доля просроченных кредитов с целью «получение образования»;\n",
    "        \n",
    "Разница в доле просрочки между первым и последним пунктами 2 п.п. Таким образом, отсутствие зарегистрированных отношений увеличивает количество просроченных кредитов на 27,4%. \n",
    "При этом, необходимо учитывать, что данный фактор не является ключевым и единственным, поэтому рекомендуется устанавливать ему невысокий вес при принятии решения об уровне кредитоспособности.\n",
    "\n",
    "**Общий вывод:**\n",
    "1.\tНа текущий момент для построения модели кредитного скоринга **можно использовать факторы №2 и №4**\n",
    "2.\tДля более точной оценки влияния факторов №1 и №3 необходима более полная выборка."
   ]
  }
 ],
 "metadata": {
  "ExecuteTimeLog": [
   {
    "duration": 453,
    "start_time": "2022-10-26T16:24:00.055Z"
   },
   {
    "duration": 22,
    "start_time": "2022-10-26T16:24:06.148Z"
   },
   {
    "duration": 15,
    "start_time": "2022-10-26T16:24:10.851Z"
   },
   {
    "duration": 10,
    "start_time": "2022-10-26T16:24:14.547Z"
   },
   {
    "duration": 33,
    "start_time": "2022-10-26T16:24:27.955Z"
   },
   {
    "duration": 3,
    "start_time": "2022-10-26T16:24:34.116Z"
   },
   {
    "duration": 8,
    "start_time": "2022-10-26T16:24:45.046Z"
   },
   {
    "duration": 4,
    "start_time": "2022-10-26T16:24:52.869Z"
   },
   {
    "duration": 7,
    "start_time": "2022-10-26T16:25:01.709Z"
   },
   {
    "duration": 5,
    "start_time": "2022-10-26T16:25:03.284Z"
   },
   {
    "duration": 35,
    "start_time": "2022-10-26T16:25:05.820Z"
   },
   {
    "duration": 11,
    "start_time": "2022-10-26T16:25:07.883Z"
   },
   {
    "duration": 4,
    "start_time": "2022-10-26T16:25:11.124Z"
   },
   {
    "duration": 11,
    "start_time": "2022-10-26T16:25:12.476Z"
   },
   {
    "duration": 21,
    "start_time": "2022-10-26T16:25:13.739Z"
   },
   {
    "duration": 17,
    "start_time": "2022-10-26T16:25:15.493Z"
   },
   {
    "duration": 3,
    "start_time": "2022-10-26T16:25:31.852Z"
   },
   {
    "duration": 10,
    "start_time": "2022-10-26T16:25:34.644Z"
   },
   {
    "duration": 8,
    "start_time": "2022-10-26T16:25:36.333Z"
   },
   {
    "duration": 4,
    "start_time": "2022-10-26T16:25:49.988Z"
   },
   {
    "duration": 4,
    "start_time": "2022-10-26T17:09:47.039Z"
   },
   {
    "duration": 12,
    "start_time": "2022-10-26T17:24:24.483Z"
   },
   {
    "duration": 11,
    "start_time": "2022-10-26T17:25:02.367Z"
   },
   {
    "duration": 13,
    "start_time": "2022-10-26T17:25:18.292Z"
   },
   {
    "duration": 10,
    "start_time": "2022-10-26T17:25:32.680Z"
   },
   {
    "duration": 7,
    "start_time": "2022-10-26T17:27:08.351Z"
   },
   {
    "duration": 7,
    "start_time": "2022-10-26T17:28:12.992Z"
   },
   {
    "duration": 4,
    "start_time": "2022-10-26T17:28:53.439Z"
   },
   {
    "duration": 8,
    "start_time": "2022-10-26T17:29:05.609Z"
   },
   {
    "duration": 7,
    "start_time": "2022-10-26T17:29:31.531Z"
   },
   {
    "duration": 8,
    "start_time": "2022-10-26T17:32:13.783Z"
   },
   {
    "duration": 52,
    "start_time": "2022-10-27T15:57:00.971Z"
   },
   {
    "duration": 73,
    "start_time": "2022-10-27T15:58:01.508Z"
   },
   {
    "duration": 692,
    "start_time": "2022-10-27T15:58:10.709Z"
   },
   {
    "duration": 24,
    "start_time": "2022-10-27T15:58:15.797Z"
   },
   {
    "duration": 16,
    "start_time": "2022-10-27T15:58:16.056Z"
   },
   {
    "duration": 10,
    "start_time": "2022-10-27T15:58:17.342Z"
   },
   {
    "duration": 35,
    "start_time": "2022-10-27T15:58:17.603Z"
   },
   {
    "duration": 4,
    "start_time": "2022-10-27T15:58:18.600Z"
   },
   {
    "duration": 9,
    "start_time": "2022-10-27T15:58:19.156Z"
   },
   {
    "duration": 4,
    "start_time": "2022-10-27T15:58:19.880Z"
   },
   {
    "duration": 7,
    "start_time": "2022-10-27T15:58:20.476Z"
   },
   {
    "duration": 4,
    "start_time": "2022-10-27T15:58:20.736Z"
   },
   {
    "duration": 33,
    "start_time": "2022-10-27T15:58:21.454Z"
   },
   {
    "duration": 12,
    "start_time": "2022-10-27T15:58:22.218Z"
   },
   {
    "duration": 4,
    "start_time": "2022-10-27T15:58:23.142Z"
   },
   {
    "duration": 11,
    "start_time": "2022-10-27T15:58:23.924Z"
   },
   {
    "duration": 20,
    "start_time": "2022-10-27T15:58:24.518Z"
   },
   {
    "duration": 18,
    "start_time": "2022-10-27T15:58:24.648Z"
   },
   {
    "duration": 3,
    "start_time": "2022-10-27T15:58:25.901Z"
   },
   {
    "duration": 9,
    "start_time": "2022-10-27T15:58:26.030Z"
   },
   {
    "duration": 6,
    "start_time": "2022-10-27T15:58:26.722Z"
   },
   {
    "duration": 5,
    "start_time": "2022-10-27T15:58:27.590Z"
   },
   {
    "duration": 8,
    "start_time": "2022-10-27T15:58:27.721Z"
   },
   {
    "duration": 30,
    "start_time": "2022-10-27T15:58:28.792Z"
   },
   {
    "duration": 45,
    "start_time": "2022-10-27T16:08:14.480Z"
   },
   {
    "duration": 24,
    "start_time": "2022-10-27T16:08:24.646Z"
   },
   {
    "duration": 24,
    "start_time": "2022-10-27T16:08:28.847Z"
   },
   {
    "duration": 22,
    "start_time": "2022-10-27T16:09:55.394Z"
   },
   {
    "duration": 22,
    "start_time": "2022-10-27T16:10:17.472Z"
   },
   {
    "duration": 24,
    "start_time": "2022-10-27T16:10:44.291Z"
   },
   {
    "duration": 28,
    "start_time": "2022-10-27T16:12:08.719Z"
   },
   {
    "duration": 28,
    "start_time": "2022-10-27T16:14:42.393Z"
   },
   {
    "duration": 28,
    "start_time": "2022-10-27T16:15:40.462Z"
   },
   {
    "duration": 18,
    "start_time": "2022-10-27T16:18:00.665Z"
   },
   {
    "duration": 24,
    "start_time": "2022-10-27T16:18:05.475Z"
   },
   {
    "duration": 29,
    "start_time": "2022-10-27T16:20:29.307Z"
   },
   {
    "duration": 31,
    "start_time": "2022-10-27T16:22:26.435Z"
   },
   {
    "duration": 24,
    "start_time": "2022-10-27T16:23:02.226Z"
   },
   {
    "duration": 28,
    "start_time": "2022-10-27T16:23:16.180Z"
   },
   {
    "duration": 23,
    "start_time": "2022-10-27T16:23:29.984Z"
   },
   {
    "duration": 11,
    "start_time": "2022-10-27T16:25:05.260Z"
   },
   {
    "duration": 30,
    "start_time": "2022-10-27T16:25:22.152Z"
   },
   {
    "duration": 36,
    "start_time": "2022-10-27T16:30:55.762Z"
   },
   {
    "duration": 47,
    "start_time": "2022-10-27T16:31:17.751Z"
   },
   {
    "duration": 27,
    "start_time": "2022-10-27T16:31:37.211Z"
   },
   {
    "duration": 31,
    "start_time": "2022-10-27T16:32:08.562Z"
   },
   {
    "duration": 38,
    "start_time": "2022-10-27T16:34:51.064Z"
   },
   {
    "duration": 32,
    "start_time": "2022-10-27T16:36:32.870Z"
   },
   {
    "duration": 31,
    "start_time": "2022-10-27T16:36:38.249Z"
   },
   {
    "duration": 52,
    "start_time": "2022-10-27T16:47:33.922Z"
   },
   {
    "duration": 65,
    "start_time": "2022-10-27T16:48:14.315Z"
   },
   {
    "duration": 73,
    "start_time": "2022-10-27T16:48:18.783Z"
   },
   {
    "duration": 37,
    "start_time": "2022-10-27T16:48:43.762Z"
   },
   {
    "duration": 17,
    "start_time": "2022-10-27T16:48:56.803Z"
   },
   {
    "duration": 39,
    "start_time": "2022-10-27T16:49:30.940Z"
   },
   {
    "duration": 34,
    "start_time": "2022-10-27T16:49:35.816Z"
   },
   {
    "duration": 20,
    "start_time": "2022-10-27T16:49:50.567Z"
   },
   {
    "duration": 3,
    "start_time": "2022-10-27T16:49:55.307Z"
   },
   {
    "duration": 46,
    "start_time": "2022-10-27T16:50:23.749Z"
   },
   {
    "duration": 33,
    "start_time": "2022-10-27T16:50:29.581Z"
   },
   {
    "duration": 24,
    "start_time": "2022-10-27T16:50:44.648Z"
   },
   {
    "duration": 14,
    "start_time": "2022-10-27T16:51:08.825Z"
   },
   {
    "duration": 12,
    "start_time": "2022-10-27T16:51:22.010Z"
   },
   {
    "duration": 12,
    "start_time": "2022-10-27T16:51:26.915Z"
   },
   {
    "duration": 15,
    "start_time": "2022-10-27T16:51:31.582Z"
   },
   {
    "duration": 70,
    "start_time": "2022-10-27T16:51:35.517Z"
   },
   {
    "duration": 14,
    "start_time": "2022-10-27T16:51:37.291Z"
   },
   {
    "duration": 15,
    "start_time": "2022-10-27T16:51:38.855Z"
   },
   {
    "duration": 9,
    "start_time": "2022-10-27T16:51:41.892Z"
   },
   {
    "duration": 35,
    "start_time": "2022-10-27T16:51:42.883Z"
   },
   {
    "duration": 4,
    "start_time": "2022-10-27T16:51:44.384Z"
   },
   {
    "duration": 7,
    "start_time": "2022-10-27T16:51:44.667Z"
   },
   {
    "duration": 4,
    "start_time": "2022-10-27T16:51:45.333Z"
   },
   {
    "duration": 6,
    "start_time": "2022-10-27T16:51:45.869Z"
   },
   {
    "duration": 5,
    "start_time": "2022-10-27T16:51:46.129Z"
   },
   {
    "duration": 32,
    "start_time": "2022-10-27T16:51:46.765Z"
   },
   {
    "duration": 11,
    "start_time": "2022-10-27T16:51:47.410Z"
   },
   {
    "duration": 4,
    "start_time": "2022-10-27T16:51:48.133Z"
   },
   {
    "duration": 11,
    "start_time": "2022-10-27T16:51:48.679Z"
   },
   {
    "duration": 18,
    "start_time": "2022-10-27T16:51:49.069Z"
   },
   {
    "duration": 18,
    "start_time": "2022-10-27T16:51:49.200Z"
   },
   {
    "duration": 4,
    "start_time": "2022-10-27T16:51:49.931Z"
   },
   {
    "duration": 9,
    "start_time": "2022-10-27T16:51:50.062Z"
   },
   {
    "duration": 6,
    "start_time": "2022-10-27T16:51:50.747Z"
   },
   {
    "duration": 3,
    "start_time": "2022-10-27T16:51:51.970Z"
   },
   {
    "duration": 9,
    "start_time": "2022-10-27T16:51:52.100Z"
   },
   {
    "duration": 40,
    "start_time": "2022-10-27T16:51:52.774Z"
   },
   {
    "duration": 50,
    "start_time": "2022-10-27T16:51:53.651Z"
   },
   {
    "duration": 44,
    "start_time": "2022-10-27T16:52:00.218Z"
   },
   {
    "duration": 47,
    "start_time": "2022-10-27T16:52:01.168Z"
   },
   {
    "duration": 431,
    "start_time": "2022-10-27T16:52:40.864Z"
   },
   {
    "duration": 21,
    "start_time": "2022-10-27T16:52:41.297Z"
   },
   {
    "duration": 13,
    "start_time": "2022-10-27T16:52:41.320Z"
   },
   {
    "duration": 10,
    "start_time": "2022-10-27T16:52:41.335Z"
   },
   {
    "duration": 38,
    "start_time": "2022-10-27T16:52:41.346Z"
   },
   {
    "duration": 4,
    "start_time": "2022-10-27T16:52:41.385Z"
   },
   {
    "duration": 12,
    "start_time": "2022-10-27T16:52:41.391Z"
   },
   {
    "duration": 4,
    "start_time": "2022-10-27T16:52:41.405Z"
   },
   {
    "duration": 23,
    "start_time": "2022-10-27T16:52:41.411Z"
   },
   {
    "duration": 4,
    "start_time": "2022-10-27T16:52:41.437Z"
   },
   {
    "duration": 34,
    "start_time": "2022-10-27T16:52:41.442Z"
   },
   {
    "duration": 9,
    "start_time": "2022-10-27T16:52:41.478Z"
   },
   {
    "duration": 3,
    "start_time": "2022-10-27T16:52:41.488Z"
   },
   {
    "duration": 12,
    "start_time": "2022-10-27T16:52:41.493Z"
   },
   {
    "duration": 45,
    "start_time": "2022-10-27T16:52:41.506Z"
   },
   {
    "duration": 18,
    "start_time": "2022-10-27T16:52:41.552Z"
   },
   {
    "duration": 4,
    "start_time": "2022-10-27T16:52:41.571Z"
   },
   {
    "duration": 12,
    "start_time": "2022-10-27T16:52:41.576Z"
   },
   {
    "duration": 8,
    "start_time": "2022-10-27T16:52:41.590Z"
   },
   {
    "duration": 3,
    "start_time": "2022-10-27T16:52:41.599Z"
   },
   {
    "duration": 31,
    "start_time": "2022-10-27T16:52:41.604Z"
   },
   {
    "duration": 42,
    "start_time": "2022-10-27T16:52:41.637Z"
   },
   {
    "duration": 63,
    "start_time": "2022-10-27T16:52:41.681Z"
   },
   {
    "duration": 44,
    "start_time": "2022-10-27T16:52:41.746Z"
   },
   {
    "duration": 58,
    "start_time": "2022-10-27T16:52:41.791Z"
   },
   {
    "duration": 55,
    "start_time": "2022-10-27T17:00:25.679Z"
   },
   {
    "duration": 9,
    "start_time": "2022-10-27T17:03:08.447Z"
   },
   {
    "duration": 17,
    "start_time": "2022-10-27T17:07:30.586Z"
   },
   {
    "duration": 68,
    "start_time": "2022-10-27T17:07:47.776Z"
   },
   {
    "duration": 27,
    "start_time": "2022-10-27T17:07:52.189Z"
   },
   {
    "duration": 33,
    "start_time": "2022-10-27T17:08:26.522Z"
   },
   {
    "duration": 489,
    "start_time": "2022-10-27T17:09:02.307Z"
   },
   {
    "duration": 20,
    "start_time": "2022-10-27T17:09:02.798Z"
   },
   {
    "duration": 15,
    "start_time": "2022-10-27T17:09:02.819Z"
   },
   {
    "duration": 9,
    "start_time": "2022-10-27T17:09:02.836Z"
   },
   {
    "duration": 40,
    "start_time": "2022-10-27T17:09:02.846Z"
   },
   {
    "duration": 3,
    "start_time": "2022-10-27T17:09:02.888Z"
   },
   {
    "duration": 18,
    "start_time": "2022-10-27T17:09:02.893Z"
   },
   {
    "duration": 4,
    "start_time": "2022-10-27T17:09:02.913Z"
   },
   {
    "duration": 23,
    "start_time": "2022-10-27T17:09:02.918Z"
   },
   {
    "duration": 14,
    "start_time": "2022-10-27T17:09:02.944Z"
   },
   {
    "duration": 40,
    "start_time": "2022-10-27T17:09:02.960Z"
   },
   {
    "duration": 10,
    "start_time": "2022-10-27T17:09:03.001Z"
   },
   {
    "duration": 11,
    "start_time": "2022-10-27T17:09:03.012Z"
   },
   {
    "duration": 18,
    "start_time": "2022-10-27T17:09:03.024Z"
   },
   {
    "duration": 22,
    "start_time": "2022-10-27T17:09:03.044Z"
   },
   {
    "duration": 18,
    "start_time": "2022-10-27T17:09:03.068Z"
   },
   {
    "duration": 9,
    "start_time": "2022-10-27T17:09:03.087Z"
   },
   {
    "duration": 13,
    "start_time": "2022-10-27T17:09:03.097Z"
   },
   {
    "duration": 23,
    "start_time": "2022-10-27T17:09:03.112Z"
   },
   {
    "duration": 9,
    "start_time": "2022-10-27T17:09:03.136Z"
   },
   {
    "duration": 12,
    "start_time": "2022-10-27T17:09:03.147Z"
   },
   {
    "duration": 43,
    "start_time": "2022-10-27T17:09:03.161Z"
   },
   {
    "duration": 59,
    "start_time": "2022-10-27T17:09:03.206Z"
   },
   {
    "duration": 27,
    "start_time": "2022-10-27T17:09:03.267Z"
   },
   {
    "duration": 64,
    "start_time": "2022-10-27T17:09:03.295Z"
   },
   {
    "duration": 14,
    "start_time": "2022-10-27T17:11:38.053Z"
   },
   {
    "duration": 29,
    "start_time": "2022-10-27T17:11:58.419Z"
   },
   {
    "duration": 13,
    "start_time": "2022-10-27T17:14:25.832Z"
   },
   {
    "duration": 27,
    "start_time": "2022-10-27T17:14:58.658Z"
   },
   {
    "duration": 24,
    "start_time": "2022-10-27T17:15:06.129Z"
   },
   {
    "duration": 29,
    "start_time": "2022-10-27T17:15:20.764Z"
   },
   {
    "duration": 16,
    "start_time": "2022-10-27T17:15:59.632Z"
   },
   {
    "duration": 22,
    "start_time": "2022-10-27T17:18:27.015Z"
   },
   {
    "duration": 22,
    "start_time": "2022-10-27T17:19:02.246Z"
   },
   {
    "duration": 27,
    "start_time": "2022-10-27T17:19:08.457Z"
   },
   {
    "duration": 24,
    "start_time": "2022-10-27T17:19:56.517Z"
   },
   {
    "duration": 22,
    "start_time": "2022-10-27T17:21:24.240Z"
   },
   {
    "duration": 14,
    "start_time": "2022-10-27T17:21:48.009Z"
   },
   {
    "duration": 14,
    "start_time": "2022-10-27T17:21:54.009Z"
   },
   {
    "duration": 12,
    "start_time": "2022-10-27T17:23:11.226Z"
   },
   {
    "duration": 14,
    "start_time": "2022-10-27T17:23:34.274Z"
   },
   {
    "duration": 23,
    "start_time": "2022-10-27T17:24:11.051Z"
   },
   {
    "duration": 26,
    "start_time": "2022-10-27T17:24:28.270Z"
   },
   {
    "duration": 26,
    "start_time": "2022-10-27T17:24:59.750Z"
   },
   {
    "duration": 25,
    "start_time": "2022-10-27T17:25:31.154Z"
   },
   {
    "duration": 80,
    "start_time": "2022-10-27T17:26:48.072Z"
   },
   {
    "duration": 26,
    "start_time": "2022-10-27T17:27:08.747Z"
   },
   {
    "duration": 26,
    "start_time": "2022-10-27T17:27:14.670Z"
   },
   {
    "duration": 482,
    "start_time": "2022-10-27T17:27:29.201Z"
   },
   {
    "duration": 28,
    "start_time": "2022-10-27T17:27:29.685Z"
   },
   {
    "duration": 27,
    "start_time": "2022-10-27T17:27:29.714Z"
   },
   {
    "duration": 10,
    "start_time": "2022-10-27T17:27:29.744Z"
   },
   {
    "duration": 38,
    "start_time": "2022-10-27T17:27:29.755Z"
   },
   {
    "duration": 4,
    "start_time": "2022-10-27T17:27:29.795Z"
   },
   {
    "duration": 34,
    "start_time": "2022-10-27T17:27:29.801Z"
   },
   {
    "duration": 5,
    "start_time": "2022-10-27T17:27:29.837Z"
   },
   {
    "duration": 7,
    "start_time": "2022-10-27T17:27:29.844Z"
   },
   {
    "duration": 4,
    "start_time": "2022-10-27T17:27:29.856Z"
   },
   {
    "duration": 35,
    "start_time": "2022-10-27T17:27:29.861Z"
   },
   {
    "duration": 38,
    "start_time": "2022-10-27T17:27:29.897Z"
   },
   {
    "duration": 5,
    "start_time": "2022-10-27T17:27:29.936Z"
   },
   {
    "duration": 18,
    "start_time": "2022-10-27T17:27:29.943Z"
   },
   {
    "duration": 28,
    "start_time": "2022-10-27T17:27:29.963Z"
   },
   {
    "duration": 16,
    "start_time": "2022-10-27T17:27:29.993Z"
   },
   {
    "duration": 4,
    "start_time": "2022-10-27T17:27:30.011Z"
   },
   {
    "duration": 34,
    "start_time": "2022-10-27T17:27:30.033Z"
   },
   {
    "duration": 25,
    "start_time": "2022-10-27T17:27:30.068Z"
   },
   {
    "duration": 19,
    "start_time": "2022-10-27T17:27:30.095Z"
   },
   {
    "duration": 51,
    "start_time": "2022-10-27T17:27:30.116Z"
   },
   {
    "duration": 53,
    "start_time": "2022-10-27T17:27:30.169Z"
   },
   {
    "duration": 48,
    "start_time": "2022-10-27T17:27:30.223Z"
   },
   {
    "duration": 82,
    "start_time": "2022-10-27T17:27:30.273Z"
   },
   {
    "duration": 0,
    "start_time": "2022-10-27T17:27:30.357Z"
   },
   {
    "duration": 24,
    "start_time": "2022-10-27T17:27:36.434Z"
   },
   {
    "duration": 26,
    "start_time": "2022-10-27T17:27:48.070Z"
   },
   {
    "duration": 30,
    "start_time": "2022-10-27T17:28:04.800Z"
   },
   {
    "duration": 19,
    "start_time": "2022-10-27T17:28:26.693Z"
   },
   {
    "duration": 432,
    "start_time": "2022-10-27T17:33:32.980Z"
   },
   {
    "duration": 22,
    "start_time": "2022-10-27T17:33:33.414Z"
   },
   {
    "duration": 15,
    "start_time": "2022-10-27T17:33:33.437Z"
   },
   {
    "duration": 9,
    "start_time": "2022-10-27T17:33:33.454Z"
   },
   {
    "duration": 34,
    "start_time": "2022-10-27T17:33:33.465Z"
   },
   {
    "duration": 3,
    "start_time": "2022-10-27T17:33:33.501Z"
   },
   {
    "duration": 29,
    "start_time": "2022-10-27T17:33:33.505Z"
   },
   {
    "duration": 4,
    "start_time": "2022-10-27T17:33:33.535Z"
   },
   {
    "duration": 8,
    "start_time": "2022-10-27T17:33:33.541Z"
   },
   {
    "duration": 4,
    "start_time": "2022-10-27T17:33:33.552Z"
   },
   {
    "duration": 37,
    "start_time": "2022-10-27T17:33:33.557Z"
   },
   {
    "duration": 9,
    "start_time": "2022-10-27T17:33:33.596Z"
   },
   {
    "duration": 28,
    "start_time": "2022-10-27T17:33:33.607Z"
   },
   {
    "duration": 19,
    "start_time": "2022-10-27T17:33:33.637Z"
   },
   {
    "duration": 23,
    "start_time": "2022-10-27T17:33:33.657Z"
   },
   {
    "duration": 18,
    "start_time": "2022-10-27T17:33:33.682Z"
   },
   {
    "duration": 3,
    "start_time": "2022-10-27T17:33:33.702Z"
   },
   {
    "duration": 12,
    "start_time": "2022-10-27T17:33:33.706Z"
   },
   {
    "duration": 19,
    "start_time": "2022-10-27T17:33:33.719Z"
   },
   {
    "duration": 4,
    "start_time": "2022-10-27T17:33:33.739Z"
   },
   {
    "duration": 10,
    "start_time": "2022-10-27T17:33:33.744Z"
   },
   {
    "duration": 41,
    "start_time": "2022-10-27T17:33:33.755Z"
   },
   {
    "duration": 67,
    "start_time": "2022-10-27T17:33:33.797Z"
   },
   {
    "duration": 766,
    "start_time": "2022-10-27T17:36:25.391Z"
   },
   {
    "duration": 79,
    "start_time": "2022-10-27T17:36:26.160Z"
   },
   {
    "duration": 23,
    "start_time": "2022-10-27T17:36:26.241Z"
   },
   {
    "duration": 76,
    "start_time": "2022-10-27T17:36:26.266Z"
   },
   {
    "duration": 111,
    "start_time": "2022-10-27T17:36:26.344Z"
   },
   {
    "duration": 4,
    "start_time": "2022-10-27T17:36:26.457Z"
   },
   {
    "duration": 73,
    "start_time": "2022-10-27T17:36:26.463Z"
   },
   {
    "duration": 6,
    "start_time": "2022-10-27T17:36:26.538Z"
   },
   {
    "duration": 12,
    "start_time": "2022-10-27T17:36:26.546Z"
   },
   {
    "duration": 4,
    "start_time": "2022-10-27T17:36:26.562Z"
   },
   {
    "duration": 98,
    "start_time": "2022-10-27T17:36:26.568Z"
   },
   {
    "duration": 69,
    "start_time": "2022-10-27T17:36:26.668Z"
   },
   {
    "duration": 5,
    "start_time": "2022-10-27T17:36:26.739Z"
   },
   {
    "duration": 15,
    "start_time": "2022-10-27T17:36:26.746Z"
   },
   {
    "duration": 85,
    "start_time": "2022-10-27T17:36:26.762Z"
   },
   {
    "duration": 17,
    "start_time": "2022-10-27T17:36:26.849Z"
   },
   {
    "duration": 4,
    "start_time": "2022-10-27T17:36:26.867Z"
   },
   {
    "duration": 68,
    "start_time": "2022-10-27T17:36:26.873Z"
   },
   {
    "duration": 13,
    "start_time": "2022-10-27T17:36:26.943Z"
   },
   {
    "duration": 4,
    "start_time": "2022-10-27T17:36:26.958Z"
   },
   {
    "duration": 73,
    "start_time": "2022-10-27T17:36:26.963Z"
   },
   {
    "duration": 97,
    "start_time": "2022-10-27T17:36:27.038Z"
   },
   {
    "duration": 99,
    "start_time": "2022-10-27T17:36:27.136Z"
   },
   {
    "duration": 19,
    "start_time": "2022-10-27T17:36:27.237Z"
   },
   {
    "duration": 73,
    "start_time": "2022-10-27T17:38:04.086Z"
   },
   {
    "duration": 778,
    "start_time": "2022-10-27T17:38:14.988Z"
   },
   {
    "duration": 78,
    "start_time": "2022-10-27T17:38:15.768Z"
   },
   {
    "duration": 14,
    "start_time": "2022-10-27T17:38:15.848Z"
   },
   {
    "duration": 9,
    "start_time": "2022-10-27T17:38:15.864Z"
   },
   {
    "duration": 93,
    "start_time": "2022-10-27T17:38:15.874Z"
   },
   {
    "duration": 4,
    "start_time": "2022-10-27T17:38:15.968Z"
   },
   {
    "duration": 67,
    "start_time": "2022-10-27T17:38:15.974Z"
   },
   {
    "duration": 4,
    "start_time": "2022-10-27T17:38:16.043Z"
   },
   {
    "duration": 9,
    "start_time": "2022-10-27T17:38:16.049Z"
   },
   {
    "duration": 4,
    "start_time": "2022-10-27T17:38:16.063Z"
   },
   {
    "duration": 43,
    "start_time": "2022-10-27T17:38:16.133Z"
   },
   {
    "duration": 14,
    "start_time": "2022-10-27T17:38:16.235Z"
   },
   {
    "duration": 12,
    "start_time": "2022-10-27T17:38:16.251Z"
   },
   {
    "duration": 68,
    "start_time": "2022-10-27T17:38:16.265Z"
   },
   {
    "duration": 27,
    "start_time": "2022-10-27T17:38:16.336Z"
   },
   {
    "duration": 84,
    "start_time": "2022-10-27T17:38:16.365Z"
   },
   {
    "duration": 5,
    "start_time": "2022-10-27T17:38:16.451Z"
   },
   {
    "duration": 75,
    "start_time": "2022-10-27T17:38:16.459Z"
   },
   {
    "duration": 10,
    "start_time": "2022-10-27T17:38:16.536Z"
   },
   {
    "duration": 5,
    "start_time": "2022-10-27T17:38:16.548Z"
   },
   {
    "duration": 15,
    "start_time": "2022-10-27T17:38:16.555Z"
   },
   {
    "duration": 104,
    "start_time": "2022-10-27T17:38:16.572Z"
   },
   {
    "duration": 160,
    "start_time": "2022-10-27T17:38:16.677Z"
   },
   {
    "duration": 3,
    "start_time": "2022-10-27T17:38:16.839Z"
   },
   {
    "duration": 112,
    "start_time": "2022-10-27T17:38:16.844Z"
   },
   {
    "duration": 16,
    "start_time": "2022-10-27T17:38:29.062Z"
   },
   {
    "duration": 23,
    "start_time": "2022-10-27T17:38:46.019Z"
   },
   {
    "duration": 794,
    "start_time": "2022-10-27T17:40:29.087Z"
   },
   {
    "duration": 23,
    "start_time": "2022-10-27T17:40:29.934Z"
   },
   {
    "duration": 76,
    "start_time": "2022-10-27T17:40:29.958Z"
   },
   {
    "duration": 16,
    "start_time": "2022-10-27T17:40:30.036Z"
   },
   {
    "duration": 101,
    "start_time": "2022-10-27T17:40:30.054Z"
   },
   {
    "duration": 4,
    "start_time": "2022-10-27T17:40:30.157Z"
   },
   {
    "duration": 77,
    "start_time": "2022-10-27T17:40:30.163Z"
   },
   {
    "duration": 37,
    "start_time": "2022-10-27T17:40:30.242Z"
   },
   {
    "duration": 57,
    "start_time": "2022-10-27T17:40:30.281Z"
   },
   {
    "duration": 29,
    "start_time": "2022-10-27T17:40:30.342Z"
   },
   {
    "duration": 165,
    "start_time": "2022-10-27T17:40:30.373Z"
   },
   {
    "duration": 9,
    "start_time": "2022-10-27T17:40:30.540Z"
   },
   {
    "duration": 83,
    "start_time": "2022-10-27T17:40:30.551Z"
   },
   {
    "duration": 12,
    "start_time": "2022-10-27T17:40:30.636Z"
   },
   {
    "duration": 100,
    "start_time": "2022-10-27T17:40:30.650Z"
   },
   {
    "duration": 19,
    "start_time": "2022-10-27T17:40:30.752Z"
   },
   {
    "duration": 63,
    "start_time": "2022-10-27T17:40:30.772Z"
   },
   {
    "duration": 34,
    "start_time": "2022-10-27T17:40:30.837Z"
   },
   {
    "duration": 63,
    "start_time": "2022-10-27T17:40:30.872Z"
   },
   {
    "duration": 30,
    "start_time": "2022-10-27T17:40:30.937Z"
   },
   {
    "duration": 70,
    "start_time": "2022-10-27T17:40:30.969Z"
   },
   {
    "duration": 112,
    "start_time": "2022-10-27T17:40:31.041Z"
   },
   {
    "duration": 121,
    "start_time": "2022-10-27T17:40:31.155Z"
   },
   {
    "duration": 157,
    "start_time": "2022-10-27T17:40:31.278Z"
   },
   {
    "duration": 104,
    "start_time": "2022-10-27T17:40:31.437Z"
   },
   {
    "duration": 762,
    "start_time": "2022-10-27T17:40:49.879Z"
   },
   {
    "duration": 21,
    "start_time": "2022-10-27T17:40:50.643Z"
   },
   {
    "duration": 83,
    "start_time": "2022-10-27T17:40:50.666Z"
   },
   {
    "duration": 14,
    "start_time": "2022-10-27T17:40:50.752Z"
   },
   {
    "duration": 92,
    "start_time": "2022-10-27T17:40:50.768Z"
   },
   {
    "duration": 4,
    "start_time": "2022-10-27T17:40:50.861Z"
   },
   {
    "duration": 70,
    "start_time": "2022-10-27T17:40:50.866Z"
   },
   {
    "duration": 7,
    "start_time": "2022-10-27T17:40:50.938Z"
   },
   {
    "duration": 16,
    "start_time": "2022-10-27T17:40:50.947Z"
   },
   {
    "duration": 5,
    "start_time": "2022-10-27T17:40:50.967Z"
   },
   {
    "duration": 44,
    "start_time": "2022-10-27T17:40:51.035Z"
   },
   {
    "duration": 12,
    "start_time": "2022-10-27T17:40:51.134Z"
   },
   {
    "duration": 7,
    "start_time": "2022-10-27T17:40:51.148Z"
   },
   {
    "duration": 14,
    "start_time": "2022-10-27T17:40:51.157Z"
   },
   {
    "duration": 79,
    "start_time": "2022-10-27T17:40:51.173Z"
   },
   {
    "duration": 18,
    "start_time": "2022-10-27T17:40:51.254Z"
   },
   {
    "duration": 3,
    "start_time": "2022-10-27T17:40:51.334Z"
   },
   {
    "duration": 18,
    "start_time": "2022-10-27T17:40:51.339Z"
   },
   {
    "duration": 8,
    "start_time": "2022-10-27T17:40:51.359Z"
   },
   {
    "duration": 7,
    "start_time": "2022-10-27T17:40:51.369Z"
   },
   {
    "duration": 10,
    "start_time": "2022-10-27T17:40:51.435Z"
   },
   {
    "duration": 102,
    "start_time": "2022-10-27T17:40:51.446Z"
   },
   {
    "duration": 102,
    "start_time": "2022-10-27T17:40:51.549Z"
   },
   {
    "duration": 816,
    "start_time": "2022-10-27T17:41:53.433Z"
   },
   {
    "duration": 82,
    "start_time": "2022-10-27T17:41:54.252Z"
   },
   {
    "duration": 21,
    "start_time": "2022-10-27T17:41:54.336Z"
   },
   {
    "duration": 8,
    "start_time": "2022-10-27T17:41:54.359Z"
   },
   {
    "duration": 98,
    "start_time": "2022-10-27T17:41:54.369Z"
   },
   {
    "duration": 3,
    "start_time": "2022-10-27T17:41:54.469Z"
   },
   {
    "duration": 67,
    "start_time": "2022-10-27T17:41:54.475Z"
   },
   {
    "duration": 4,
    "start_time": "2022-10-27T17:41:54.544Z"
   },
   {
    "duration": 12,
    "start_time": "2022-10-27T17:41:54.549Z"
   },
   {
    "duration": 4,
    "start_time": "2022-10-27T17:41:54.563Z"
   },
   {
    "duration": 31,
    "start_time": "2022-10-27T17:41:54.634Z"
   },
   {
    "duration": 69,
    "start_time": "2022-10-27T17:41:54.667Z"
   },
   {
    "duration": 4,
    "start_time": "2022-10-27T17:41:54.738Z"
   },
   {
    "duration": 21,
    "start_time": "2022-10-27T17:41:54.744Z"
   },
   {
    "duration": 82,
    "start_time": "2022-10-27T17:41:54.766Z"
   },
   {
    "duration": 24,
    "start_time": "2022-10-27T17:41:54.850Z"
   },
   {
    "duration": 4,
    "start_time": "2022-10-27T17:41:54.934Z"
   },
   {
    "duration": 19,
    "start_time": "2022-10-27T17:41:54.940Z"
   },
   {
    "duration": 15,
    "start_time": "2022-10-27T17:41:54.961Z"
   },
   {
    "duration": 57,
    "start_time": "2022-10-27T17:41:54.978Z"
   },
   {
    "duration": 14,
    "start_time": "2022-10-27T17:41:55.037Z"
   },
   {
    "duration": 100,
    "start_time": "2022-10-27T17:41:55.052Z"
   },
   {
    "duration": 99,
    "start_time": "2022-10-27T17:41:55.154Z"
   },
   {
    "duration": 19,
    "start_time": "2022-10-27T17:41:55.254Z"
   },
   {
    "duration": 98,
    "start_time": "2022-10-27T17:41:55.274Z"
   },
   {
    "duration": 457,
    "start_time": "2022-10-27T17:43:31.155Z"
   },
   {
    "duration": 32,
    "start_time": "2022-10-27T17:43:31.613Z"
   },
   {
    "duration": 17,
    "start_time": "2022-10-27T17:43:31.647Z"
   },
   {
    "duration": 9,
    "start_time": "2022-10-27T17:43:31.667Z"
   },
   {
    "duration": 61,
    "start_time": "2022-10-27T17:43:31.677Z"
   },
   {
    "duration": 3,
    "start_time": "2022-10-27T17:43:31.740Z"
   },
   {
    "duration": 17,
    "start_time": "2022-10-27T17:43:31.745Z"
   },
   {
    "duration": 7,
    "start_time": "2022-10-27T17:43:31.764Z"
   },
   {
    "duration": 12,
    "start_time": "2022-10-27T17:43:31.773Z"
   },
   {
    "duration": 6,
    "start_time": "2022-10-27T17:43:31.787Z"
   },
   {
    "duration": 65,
    "start_time": "2022-10-27T17:43:31.794Z"
   },
   {
    "duration": 9,
    "start_time": "2022-10-27T17:43:31.861Z"
   },
   {
    "duration": 6,
    "start_time": "2022-10-27T17:43:31.872Z"
   },
   {
    "duration": 18,
    "start_time": "2022-10-27T17:43:31.880Z"
   },
   {
    "duration": 34,
    "start_time": "2022-10-27T17:43:31.900Z"
   },
   {
    "duration": 16,
    "start_time": "2022-10-27T17:43:31.936Z"
   },
   {
    "duration": 3,
    "start_time": "2022-10-27T17:43:31.953Z"
   },
   {
    "duration": 15,
    "start_time": "2022-10-27T17:43:31.958Z"
   },
   {
    "duration": 7,
    "start_time": "2022-10-27T17:43:31.975Z"
   },
   {
    "duration": 4,
    "start_time": "2022-10-27T17:43:31.984Z"
   },
   {
    "duration": 43,
    "start_time": "2022-10-27T17:43:31.990Z"
   },
   {
    "duration": 42,
    "start_time": "2022-10-27T17:43:32.035Z"
   },
   {
    "duration": 58,
    "start_time": "2022-10-27T17:43:32.078Z"
   },
   {
    "duration": 47,
    "start_time": "2022-10-27T17:43:32.137Z"
   },
   {
    "duration": 70,
    "start_time": "2022-10-27T17:43:32.186Z"
   },
   {
    "duration": 46,
    "start_time": "2022-10-29T05:24:07.148Z"
   },
   {
    "duration": 767,
    "start_time": "2022-10-29T05:24:14.049Z"
   },
   {
    "duration": 32,
    "start_time": "2022-10-29T05:24:14.818Z"
   },
   {
    "duration": 23,
    "start_time": "2022-10-29T05:24:14.852Z"
   },
   {
    "duration": 15,
    "start_time": "2022-10-29T05:24:14.879Z"
   },
   {
    "duration": 64,
    "start_time": "2022-10-29T05:24:14.896Z"
   },
   {
    "duration": 4,
    "start_time": "2022-10-29T05:24:14.961Z"
   },
   {
    "duration": 16,
    "start_time": "2022-10-29T05:24:14.968Z"
   },
   {
    "duration": 4,
    "start_time": "2022-10-29T05:24:14.985Z"
   },
   {
    "duration": 9,
    "start_time": "2022-10-29T05:24:14.991Z"
   },
   {
    "duration": 8,
    "start_time": "2022-10-29T05:24:15.032Z"
   },
   {
    "duration": 47,
    "start_time": "2022-10-29T05:24:15.042Z"
   },
   {
    "duration": 20,
    "start_time": "2022-10-29T05:24:15.091Z"
   },
   {
    "duration": 8,
    "start_time": "2022-10-29T05:24:15.127Z"
   },
   {
    "duration": 26,
    "start_time": "2022-10-29T05:24:15.138Z"
   },
   {
    "duration": 22,
    "start_time": "2022-10-29T05:24:15.166Z"
   },
   {
    "duration": 25,
    "start_time": "2022-10-29T05:24:15.190Z"
   },
   {
    "duration": 15,
    "start_time": "2022-10-29T05:24:15.217Z"
   },
   {
    "duration": 15,
    "start_time": "2022-10-29T05:24:15.237Z"
   },
   {
    "duration": 14,
    "start_time": "2022-10-29T05:24:15.254Z"
   },
   {
    "duration": 5,
    "start_time": "2022-10-29T05:24:15.270Z"
   },
   {
    "duration": 19,
    "start_time": "2022-10-29T05:24:15.276Z"
   },
   {
    "duration": 62,
    "start_time": "2022-10-29T05:24:15.297Z"
   },
   {
    "duration": 47,
    "start_time": "2022-10-29T05:24:15.360Z"
   },
   {
    "duration": 67,
    "start_time": "2022-10-29T05:24:15.408Z"
   },
   {
    "duration": 89,
    "start_time": "2022-10-29T05:24:15.477Z"
   },
   {
    "duration": 22,
    "start_time": "2022-10-29T05:27:23.138Z"
   },
   {
    "duration": 70,
    "start_time": "2022-10-29T05:28:00.477Z"
   },
   {
    "duration": 70,
    "start_time": "2022-10-29T05:30:41.476Z"
   },
   {
    "duration": 84,
    "start_time": "2022-10-29T05:30:48.962Z"
   },
   {
    "duration": 65,
    "start_time": "2022-10-29T05:31:13.256Z"
   },
   {
    "duration": 69,
    "start_time": "2022-10-29T05:32:46.316Z"
   },
   {
    "duration": 13,
    "start_time": "2022-10-29T05:32:53.992Z"
   },
   {
    "duration": 57,
    "start_time": "2022-10-29T05:32:58.736Z"
   },
   {
    "duration": 53,
    "start_time": "2022-10-29T05:45:34.241Z"
   },
   {
    "duration": 87,
    "start_time": "2022-10-29T05:45:44.300Z"
   },
   {
    "duration": 50,
    "start_time": "2022-10-29T05:45:48.962Z"
   },
   {
    "duration": 507,
    "start_time": "2022-10-29T05:46:03.011Z"
   },
   {
    "duration": 30,
    "start_time": "2022-10-29T05:46:03.520Z"
   },
   {
    "duration": 35,
    "start_time": "2022-10-29T05:46:03.552Z"
   },
   {
    "duration": 14,
    "start_time": "2022-10-29T05:46:03.590Z"
   },
   {
    "duration": 54,
    "start_time": "2022-10-29T05:46:03.606Z"
   },
   {
    "duration": 5,
    "start_time": "2022-10-29T05:46:03.664Z"
   },
   {
    "duration": 13,
    "start_time": "2022-10-29T05:46:03.670Z"
   },
   {
    "duration": 7,
    "start_time": "2022-10-29T05:46:03.684Z"
   },
   {
    "duration": 12,
    "start_time": "2022-10-29T05:46:03.694Z"
   },
   {
    "duration": 31,
    "start_time": "2022-10-29T05:46:03.711Z"
   },
   {
    "duration": 54,
    "start_time": "2022-10-29T05:46:03.743Z"
   },
   {
    "duration": 9,
    "start_time": "2022-10-29T05:46:03.798Z"
   },
   {
    "duration": 6,
    "start_time": "2022-10-29T05:46:03.809Z"
   },
   {
    "duration": 27,
    "start_time": "2022-10-29T05:46:03.817Z"
   },
   {
    "duration": 36,
    "start_time": "2022-10-29T05:46:03.846Z"
   },
   {
    "duration": 17,
    "start_time": "2022-10-29T05:46:03.883Z"
   },
   {
    "duration": 3,
    "start_time": "2022-10-29T05:46:03.902Z"
   },
   {
    "duration": 50,
    "start_time": "2022-10-29T05:46:03.907Z"
   },
   {
    "duration": 9,
    "start_time": "2022-10-29T05:46:03.959Z"
   },
   {
    "duration": 3,
    "start_time": "2022-10-29T05:46:03.970Z"
   },
   {
    "duration": 24,
    "start_time": "2022-10-29T05:46:03.974Z"
   },
   {
    "duration": 127,
    "start_time": "2022-10-29T05:46:04.000Z"
   },
   {
    "duration": 0,
    "start_time": "2022-10-29T05:46:04.129Z"
   },
   {
    "duration": 0,
    "start_time": "2022-10-29T05:46:04.130Z"
   },
   {
    "duration": 0,
    "start_time": "2022-10-29T05:46:04.131Z"
   },
   {
    "duration": 61,
    "start_time": "2022-10-29T05:47:29.111Z"
   },
   {
    "duration": 98,
    "start_time": "2022-10-29T05:47:33.063Z"
   },
   {
    "duration": 70,
    "start_time": "2022-10-29T05:48:12.286Z"
   },
   {
    "duration": 80,
    "start_time": "2022-10-29T05:49:47.513Z"
   },
   {
    "duration": 57,
    "start_time": "2022-10-29T05:50:10.653Z"
   },
   {
    "duration": 71,
    "start_time": "2022-10-29T05:50:17.524Z"
   },
   {
    "duration": 34,
    "start_time": "2022-10-29T05:50:55.853Z"
   },
   {
    "duration": 56,
    "start_time": "2022-10-29T06:03:16.501Z"
   },
   {
    "duration": 56,
    "start_time": "2022-10-29T06:03:27.409Z"
   },
   {
    "duration": 37,
    "start_time": "2022-10-29T06:04:58.164Z"
   },
   {
    "duration": 33,
    "start_time": "2022-10-29T06:09:39.682Z"
   },
   {
    "duration": 47,
    "start_time": "2022-10-29T06:09:51.587Z"
   },
   {
    "duration": 34,
    "start_time": "2022-10-29T06:10:07.083Z"
   },
   {
    "duration": 48,
    "start_time": "2022-10-29T06:10:22.602Z"
   },
   {
    "duration": 55,
    "start_time": "2022-10-29T06:11:21.896Z"
   },
   {
    "duration": 60,
    "start_time": "2022-10-29T06:11:32.909Z"
   },
   {
    "duration": 49,
    "start_time": "2022-10-29T06:11:36.953Z"
   },
   {
    "duration": 55,
    "start_time": "2022-10-29T06:12:08.215Z"
   },
   {
    "duration": 53,
    "start_time": "2022-10-29T06:12:17.041Z"
   },
   {
    "duration": 845,
    "start_time": "2022-10-29T06:13:53.902Z"
   },
   {
    "duration": 940,
    "start_time": "2022-10-29T06:14:07.710Z"
   },
   {
    "duration": 57,
    "start_time": "2022-10-29T06:14:12.680Z"
   },
   {
    "duration": 825,
    "start_time": "2022-10-29T06:14:41.589Z"
   },
   {
    "duration": 967,
    "start_time": "2022-10-29T06:15:08.189Z"
   },
   {
    "duration": 63,
    "start_time": "2022-10-29T06:15:13.334Z"
   },
   {
    "duration": 48,
    "start_time": "2022-10-29T06:17:06.071Z"
   },
   {
    "duration": 50,
    "start_time": "2022-10-29T06:18:20.733Z"
   },
   {
    "duration": 53,
    "start_time": "2022-10-29T06:18:30.851Z"
   },
   {
    "duration": 60,
    "start_time": "2022-10-29T06:18:36.588Z"
   },
   {
    "duration": 853,
    "start_time": "2022-10-29T06:18:52.363Z"
   },
   {
    "duration": 67,
    "start_time": "2022-10-29T06:19:02.767Z"
   },
   {
    "duration": 63,
    "start_time": "2022-10-29T06:24:57.305Z"
   },
   {
    "duration": 53,
    "start_time": "2022-10-29T06:36:33.740Z"
   },
   {
    "duration": 54,
    "start_time": "2022-10-29T06:40:02.883Z"
   },
   {
    "duration": 56,
    "start_time": "2022-10-29T06:40:10.757Z"
   },
   {
    "duration": 84,
    "start_time": "2022-10-29T06:41:26.807Z"
   },
   {
    "duration": 55,
    "start_time": "2022-10-29T06:41:45.543Z"
   },
   {
    "duration": 56,
    "start_time": "2022-10-29T06:41:58.291Z"
   },
   {
    "duration": 54,
    "start_time": "2022-10-29T06:42:53.784Z"
   },
   {
    "duration": 50,
    "start_time": "2022-10-29T06:44:24.733Z"
   },
   {
    "duration": 75,
    "start_time": "2022-10-29T06:44:28.860Z"
   },
   {
    "duration": 69,
    "start_time": "2022-10-29T06:44:40.170Z"
   },
   {
    "duration": 59,
    "start_time": "2022-10-29T06:45:06.983Z"
   },
   {
    "duration": 54,
    "start_time": "2022-10-29T06:46:06.164Z"
   },
   {
    "duration": 66,
    "start_time": "2022-10-29T06:46:28.660Z"
   },
   {
    "duration": 75,
    "start_time": "2022-10-29T06:46:41.214Z"
   },
   {
    "duration": 6,
    "start_time": "2022-10-29T06:47:17.161Z"
   },
   {
    "duration": 71,
    "start_time": "2022-10-29T06:47:25.784Z"
   },
   {
    "duration": 71,
    "start_time": "2022-10-29T06:47:37.781Z"
   },
   {
    "duration": 57,
    "start_time": "2022-10-29T06:49:54.276Z"
   },
   {
    "duration": 7,
    "start_time": "2022-10-29T06:50:54.357Z"
   },
   {
    "duration": 57,
    "start_time": "2022-10-29T06:51:10.711Z"
   },
   {
    "duration": 118,
    "start_time": "2022-10-29T06:51:59.091Z"
   },
   {
    "duration": 59,
    "start_time": "2022-10-29T06:52:27.122Z"
   },
   {
    "duration": 74,
    "start_time": "2022-10-29T06:52:35.717Z"
   },
   {
    "duration": 3,
    "start_time": "2022-10-29T06:52:47.108Z"
   },
   {
    "duration": 8,
    "start_time": "2022-10-29T06:52:48.002Z"
   },
   {
    "duration": 54,
    "start_time": "2022-10-29T06:52:50.005Z"
   },
   {
    "duration": 70,
    "start_time": "2022-10-29T06:52:58.332Z"
   },
   {
    "duration": 42,
    "start_time": "2022-10-29T06:53:07.393Z"
   },
   {
    "duration": 60,
    "start_time": "2022-10-29T06:53:30.641Z"
   },
   {
    "duration": 99,
    "start_time": "2022-10-29T06:54:02.130Z"
   },
   {
    "duration": 77,
    "start_time": "2022-10-29T06:54:23.181Z"
   },
   {
    "duration": 56,
    "start_time": "2022-10-29T06:54:36.228Z"
   },
   {
    "duration": 73,
    "start_time": "2022-10-29T06:56:47.231Z"
   },
   {
    "duration": 54,
    "start_time": "2022-10-29T06:56:54.141Z"
   },
   {
    "duration": 63,
    "start_time": "2022-10-29T06:58:00.690Z"
   },
   {
    "duration": 56,
    "start_time": "2022-10-29T06:58:14.302Z"
   },
   {
    "duration": 61,
    "start_time": "2022-10-29T06:58:41.699Z"
   },
   {
    "duration": 53,
    "start_time": "2022-10-29T06:58:55.734Z"
   },
   {
    "duration": 56,
    "start_time": "2022-10-29T06:59:07.353Z"
   },
   {
    "duration": 57,
    "start_time": "2022-10-29T07:00:32.637Z"
   },
   {
    "duration": 55,
    "start_time": "2022-10-29T07:00:43.393Z"
   },
   {
    "duration": 75,
    "start_time": "2022-10-29T07:01:01.043Z"
   },
   {
    "duration": 80,
    "start_time": "2022-10-29T07:01:11.486Z"
   },
   {
    "duration": 57,
    "start_time": "2022-10-29T07:01:24.883Z"
   },
   {
    "duration": 65,
    "start_time": "2022-10-29T07:01:31.433Z"
   },
   {
    "duration": 57,
    "start_time": "2022-10-29T07:01:34.288Z"
   },
   {
    "duration": 86,
    "start_time": "2022-10-29T07:02:29.617Z"
   },
   {
    "duration": 55,
    "start_time": "2022-10-29T07:03:17.680Z"
   },
   {
    "duration": 54,
    "start_time": "2022-10-29T07:03:25.460Z"
   },
   {
    "duration": 70,
    "start_time": "2022-10-29T07:03:37.512Z"
   },
   {
    "duration": 635,
    "start_time": "2022-10-29T07:04:12.856Z"
   },
   {
    "duration": 57,
    "start_time": "2022-10-29T07:04:21.827Z"
   },
   {
    "duration": 77,
    "start_time": "2022-10-29T07:08:08.924Z"
   },
   {
    "duration": 56,
    "start_time": "2022-10-29T07:08:11.764Z"
   },
   {
    "duration": 70,
    "start_time": "2022-10-29T07:08:20.793Z"
   },
   {
    "duration": 63,
    "start_time": "2022-10-29T07:08:31.690Z"
   },
   {
    "duration": 54,
    "start_time": "2022-10-29T07:08:42.087Z"
   },
   {
    "duration": 60,
    "start_time": "2022-10-29T07:08:45.743Z"
   },
   {
    "duration": 60,
    "start_time": "2022-10-29T07:09:50.210Z"
   },
   {
    "duration": 57,
    "start_time": "2022-10-29T07:09:57.845Z"
   },
   {
    "duration": 60,
    "start_time": "2022-10-29T07:10:22.691Z"
   },
   {
    "duration": 56,
    "start_time": "2022-10-29T07:10:30.324Z"
   },
   {
    "duration": 63,
    "start_time": "2022-10-29T07:10:41.662Z"
   },
   {
    "duration": 55,
    "start_time": "2022-10-29T07:10:55.425Z"
   },
   {
    "duration": 56,
    "start_time": "2022-10-29T07:11:22.897Z"
   },
   {
    "duration": 86,
    "start_time": "2022-10-29T07:11:38.761Z"
   },
   {
    "duration": 63,
    "start_time": "2022-10-29T07:12:09.408Z"
   },
   {
    "duration": 58,
    "start_time": "2022-10-29T07:12:15.576Z"
   },
   {
    "duration": 57,
    "start_time": "2022-10-29T07:12:56.296Z"
   },
   {
    "duration": 87,
    "start_time": "2022-10-29T07:13:05.620Z"
   },
   {
    "duration": 66,
    "start_time": "2022-10-29T07:13:14.250Z"
   },
   {
    "duration": 61,
    "start_time": "2022-10-29T07:13:36.643Z"
   },
   {
    "duration": 74,
    "start_time": "2022-10-29T07:13:41.539Z"
   },
   {
    "duration": 60,
    "start_time": "2022-10-29T07:13:45.744Z"
   },
   {
    "duration": 59,
    "start_time": "2022-10-29T07:14:04.314Z"
   },
   {
    "duration": 74,
    "start_time": "2022-10-29T07:14:30.626Z"
   },
   {
    "duration": 79,
    "start_time": "2022-10-29T07:14:34.495Z"
   },
   {
    "duration": 621,
    "start_time": "2022-10-29T07:21:50.164Z"
   },
   {
    "duration": 88,
    "start_time": "2022-10-29T07:22:33.354Z"
   },
   {
    "duration": 67,
    "start_time": "2022-10-29T07:23:02.921Z"
   },
   {
    "duration": 93,
    "start_time": "2022-10-29T07:23:12.964Z"
   },
   {
    "duration": 103,
    "start_time": "2022-10-29T07:23:43.480Z"
   },
   {
    "duration": 99,
    "start_time": "2022-10-29T07:24:52.539Z"
   },
   {
    "duration": 50,
    "start_time": "2022-10-29T07:33:40.458Z"
   },
   {
    "duration": 60,
    "start_time": "2022-10-29T07:33:59.555Z"
   },
   {
    "duration": 69,
    "start_time": "2022-10-29T07:36:58.956Z"
   },
   {
    "duration": 78,
    "start_time": "2022-10-29T07:38:08.705Z"
   },
   {
    "duration": 80,
    "start_time": "2022-10-29T07:50:45.063Z"
   },
   {
    "duration": 53,
    "start_time": "2022-10-29T07:51:11.856Z"
   },
   {
    "duration": 71,
    "start_time": "2022-10-29T07:51:29.174Z"
   },
   {
    "duration": 59,
    "start_time": "2022-10-29T07:52:04.763Z"
   },
   {
    "duration": 56,
    "start_time": "2022-10-29T07:52:20.203Z"
   },
   {
    "duration": 56,
    "start_time": "2022-10-29T07:52:29.853Z"
   },
   {
    "duration": 54,
    "start_time": "2022-10-29T07:56:43.311Z"
   },
   {
    "duration": 95,
    "start_time": "2022-10-29T08:17:53.242Z"
   },
   {
    "duration": 88,
    "start_time": "2022-10-29T08:18:01.646Z"
   },
   {
    "duration": 75,
    "start_time": "2022-10-29T08:18:11.036Z"
   },
   {
    "duration": 69,
    "start_time": "2022-10-29T08:18:22.993Z"
   },
   {
    "duration": 60,
    "start_time": "2022-10-29T08:21:39.544Z"
   },
   {
    "duration": 65,
    "start_time": "2022-10-29T08:21:45.436Z"
   },
   {
    "duration": 60,
    "start_time": "2022-10-29T08:21:53.202Z"
   },
   {
    "duration": 66,
    "start_time": "2022-10-29T08:22:05.631Z"
   },
   {
    "duration": 55,
    "start_time": "2022-10-29T08:22:16.330Z"
   },
   {
    "duration": 60,
    "start_time": "2022-10-29T08:26:38.079Z"
   },
   {
    "duration": 63,
    "start_time": "2022-10-29T08:26:48.811Z"
   },
   {
    "duration": 71,
    "start_time": "2022-10-29T08:28:04.355Z"
   },
   {
    "duration": 60,
    "start_time": "2022-10-29T08:29:04.239Z"
   },
   {
    "duration": 64,
    "start_time": "2022-10-29T08:29:40.773Z"
   },
   {
    "duration": 55,
    "start_time": "2022-10-29T08:30:06.415Z"
   },
   {
    "duration": 74,
    "start_time": "2022-10-29T08:31:32.189Z"
   },
   {
    "duration": 68,
    "start_time": "2022-10-29T08:35:03.358Z"
   },
   {
    "duration": 59,
    "start_time": "2022-10-29T08:35:19.308Z"
   },
   {
    "duration": 78,
    "start_time": "2022-10-29T08:38:54.326Z"
   },
   {
    "duration": 60,
    "start_time": "2022-10-29T08:41:31.577Z"
   },
   {
    "duration": 492,
    "start_time": "2022-10-29T08:41:47.202Z"
   },
   {
    "duration": 22,
    "start_time": "2022-10-29T08:41:47.696Z"
   },
   {
    "duration": 15,
    "start_time": "2022-10-29T08:41:47.722Z"
   },
   {
    "duration": 10,
    "start_time": "2022-10-29T08:41:47.739Z"
   },
   {
    "duration": 34,
    "start_time": "2022-10-29T08:41:47.750Z"
   },
   {
    "duration": 3,
    "start_time": "2022-10-29T08:41:47.786Z"
   },
   {
    "duration": 17,
    "start_time": "2022-10-29T08:41:47.790Z"
   },
   {
    "duration": 5,
    "start_time": "2022-10-29T08:41:47.822Z"
   },
   {
    "duration": 14,
    "start_time": "2022-10-29T08:41:47.830Z"
   },
   {
    "duration": 14,
    "start_time": "2022-10-29T08:41:47.846Z"
   },
   {
    "duration": 32,
    "start_time": "2022-10-29T08:41:47.861Z"
   },
   {
    "duration": 9,
    "start_time": "2022-10-29T08:41:47.895Z"
   },
   {
    "duration": 17,
    "start_time": "2022-10-29T08:41:47.906Z"
   },
   {
    "duration": 17,
    "start_time": "2022-10-29T08:41:47.926Z"
   },
   {
    "duration": 25,
    "start_time": "2022-10-29T08:41:47.945Z"
   },
   {
    "duration": 16,
    "start_time": "2022-10-29T08:41:47.971Z"
   },
   {
    "duration": 3,
    "start_time": "2022-10-29T08:41:47.989Z"
   },
   {
    "duration": 35,
    "start_time": "2022-10-29T08:41:47.993Z"
   },
   {
    "duration": 9,
    "start_time": "2022-10-29T08:41:48.030Z"
   },
   {
    "duration": 4,
    "start_time": "2022-10-29T08:41:48.040Z"
   },
   {
    "duration": 12,
    "start_time": "2022-10-29T08:41:48.045Z"
   },
   {
    "duration": 92,
    "start_time": "2022-10-29T08:41:48.059Z"
   },
   {
    "duration": 0,
    "start_time": "2022-10-29T08:41:48.153Z"
   },
   {
    "duration": 0,
    "start_time": "2022-10-29T08:41:48.154Z"
   },
   {
    "duration": 0,
    "start_time": "2022-10-29T08:41:48.155Z"
   },
   {
    "duration": 481,
    "start_time": "2022-10-29T08:42:01.590Z"
   },
   {
    "duration": 21,
    "start_time": "2022-10-29T08:42:02.073Z"
   },
   {
    "duration": 25,
    "start_time": "2022-10-29T08:42:02.098Z"
   },
   {
    "duration": 10,
    "start_time": "2022-10-29T08:42:02.125Z"
   },
   {
    "duration": 48,
    "start_time": "2022-10-29T08:42:02.136Z"
   },
   {
    "duration": 3,
    "start_time": "2022-10-29T08:42:02.186Z"
   },
   {
    "duration": 10,
    "start_time": "2022-10-29T08:42:02.191Z"
   },
   {
    "duration": 19,
    "start_time": "2022-10-29T08:42:02.203Z"
   },
   {
    "duration": 8,
    "start_time": "2022-10-29T08:42:02.225Z"
   },
   {
    "duration": 6,
    "start_time": "2022-10-29T08:42:02.234Z"
   },
   {
    "duration": 36,
    "start_time": "2022-10-29T08:42:02.241Z"
   },
   {
    "duration": 11,
    "start_time": "2022-10-29T08:42:02.279Z"
   },
   {
    "duration": 4,
    "start_time": "2022-10-29T08:42:02.291Z"
   },
   {
    "duration": 11,
    "start_time": "2022-10-29T08:42:02.322Z"
   },
   {
    "duration": 22,
    "start_time": "2022-10-29T08:42:02.335Z"
   },
   {
    "duration": 16,
    "start_time": "2022-10-29T08:42:02.358Z"
   },
   {
    "duration": 3,
    "start_time": "2022-10-29T08:42:02.376Z"
   },
   {
    "duration": 48,
    "start_time": "2022-10-29T08:42:02.380Z"
   },
   {
    "duration": 5,
    "start_time": "2022-10-29T08:42:02.430Z"
   },
   {
    "duration": 5,
    "start_time": "2022-10-29T08:42:02.436Z"
   },
   {
    "duration": 12,
    "start_time": "2022-10-29T08:42:02.442Z"
   },
   {
    "duration": 84,
    "start_time": "2022-10-29T08:42:02.456Z"
   },
   {
    "duration": 53,
    "start_time": "2022-10-29T08:42:02.542Z"
   },
   {
    "duration": 65,
    "start_time": "2022-10-29T08:42:02.596Z"
   },
   {
    "duration": 64,
    "start_time": "2022-10-29T08:42:02.663Z"
   },
   {
    "duration": 60,
    "start_time": "2022-10-29T08:45:35.667Z"
   },
   {
    "duration": 137,
    "start_time": "2022-10-29T08:58:50.417Z"
   },
   {
    "duration": 62,
    "start_time": "2022-10-29T08:59:33.678Z"
   },
   {
    "duration": 127,
    "start_time": "2022-10-29T09:00:03.062Z"
   },
   {
    "duration": 123,
    "start_time": "2022-10-29T09:00:57.221Z"
   },
   {
    "duration": 14,
    "start_time": "2022-10-29T09:02:15.398Z"
   },
   {
    "duration": 19,
    "start_time": "2022-10-29T09:02:21.478Z"
   },
   {
    "duration": 110,
    "start_time": "2022-10-29T09:02:56.592Z"
   },
   {
    "duration": 24,
    "start_time": "2022-10-29T09:03:31.979Z"
   },
   {
    "duration": 81,
    "start_time": "2022-10-29T09:04:01.887Z"
   },
   {
    "duration": 79,
    "start_time": "2022-10-29T09:04:38.434Z"
   },
   {
    "duration": 80,
    "start_time": "2022-10-29T09:04:42.493Z"
   },
   {
    "duration": 62,
    "start_time": "2022-10-29T09:04:48.910Z"
   },
   {
    "duration": 505,
    "start_time": "2022-10-29T09:05:02.179Z"
   },
   {
    "duration": 12,
    "start_time": "2022-10-29T09:05:31.566Z"
   },
   {
    "duration": 62,
    "start_time": "2022-10-29T09:05:39.594Z"
   },
   {
    "duration": 159,
    "start_time": "2022-10-29T09:05:49.016Z"
   },
   {
    "duration": 483,
    "start_time": "2022-10-29T09:05:54.619Z"
   },
   {
    "duration": 35,
    "start_time": "2022-10-29T09:05:55.104Z"
   },
   {
    "duration": 16,
    "start_time": "2022-10-29T09:05:55.141Z"
   },
   {
    "duration": 10,
    "start_time": "2022-10-29T09:05:55.159Z"
   },
   {
    "duration": 38,
    "start_time": "2022-10-29T09:05:55.172Z"
   },
   {
    "duration": 16,
    "start_time": "2022-10-29T09:05:55.211Z"
   },
   {
    "duration": 23,
    "start_time": "2022-10-29T09:05:55.228Z"
   },
   {
    "duration": 3,
    "start_time": "2022-10-29T09:05:55.253Z"
   },
   {
    "duration": 10,
    "start_time": "2022-10-29T09:05:55.258Z"
   },
   {
    "duration": 8,
    "start_time": "2022-10-29T09:05:55.270Z"
   },
   {
    "duration": 34,
    "start_time": "2022-10-29T09:05:55.279Z"
   },
   {
    "duration": 22,
    "start_time": "2022-10-29T09:05:55.314Z"
   },
   {
    "duration": 8,
    "start_time": "2022-10-29T09:05:55.337Z"
   },
   {
    "duration": 13,
    "start_time": "2022-10-29T09:05:55.348Z"
   },
   {
    "duration": 23,
    "start_time": "2022-10-29T09:05:55.363Z"
   },
   {
    "duration": 16,
    "start_time": "2022-10-29T09:05:55.388Z"
   },
   {
    "duration": 4,
    "start_time": "2022-10-29T09:05:55.405Z"
   },
   {
    "duration": 27,
    "start_time": "2022-10-29T09:05:55.411Z"
   },
   {
    "duration": 9,
    "start_time": "2022-10-29T09:05:55.440Z"
   },
   {
    "duration": 4,
    "start_time": "2022-10-29T09:05:55.450Z"
   },
   {
    "duration": 10,
    "start_time": "2022-10-29T09:05:55.456Z"
   },
   {
    "duration": 80,
    "start_time": "2022-10-29T09:05:55.468Z"
   },
   {
    "duration": 129,
    "start_time": "2022-10-29T09:05:55.550Z"
   },
   {
    "duration": 71,
    "start_time": "2022-10-29T09:05:55.681Z"
   },
   {
    "duration": 43,
    "start_time": "2022-10-29T09:05:55.755Z"
   },
   {
    "duration": 134,
    "start_time": "2022-10-29T09:13:40.197Z"
   },
   {
    "duration": 8,
    "start_time": "2022-10-29T09:28:35.965Z"
   },
   {
    "duration": 22,
    "start_time": "2022-10-29T09:29:59.021Z"
   },
   {
    "duration": 8,
    "start_time": "2022-10-29T09:30:03.964Z"
   },
   {
    "duration": 22,
    "start_time": "2022-10-29T09:30:50.047Z"
   },
   {
    "duration": 30,
    "start_time": "2022-10-29T09:35:45.076Z"
   },
   {
    "duration": 23,
    "start_time": "2022-10-29T09:36:13.450Z"
   },
   {
    "duration": 21,
    "start_time": "2022-10-29T09:36:22.560Z"
   },
   {
    "duration": 34,
    "start_time": "2022-10-29T09:36:35.518Z"
   },
   {
    "duration": 63,
    "start_time": "2022-10-29T09:45:00.249Z"
   },
   {
    "duration": 16,
    "start_time": "2022-10-29T09:45:04.588Z"
   },
   {
    "duration": 43,
    "start_time": "2022-10-29T09:45:21.208Z"
   },
   {
    "duration": 59,
    "start_time": "2022-10-29T09:45:37.795Z"
   },
   {
    "duration": 86,
    "start_time": "2022-10-29T09:46:36.178Z"
   },
   {
    "duration": 87,
    "start_time": "2022-10-29T09:49:17.279Z"
   },
   {
    "duration": 166,
    "start_time": "2022-10-29T09:55:32.070Z"
   },
   {
    "duration": 85,
    "start_time": "2022-10-29T09:56:07.987Z"
   },
   {
    "duration": 73,
    "start_time": "2022-10-29T09:56:14.457Z"
   },
   {
    "duration": 467,
    "start_time": "2022-10-29T09:56:17.848Z"
   },
   {
    "duration": 40,
    "start_time": "2022-10-29T09:56:18.317Z"
   },
   {
    "duration": 31,
    "start_time": "2022-10-29T09:56:18.359Z"
   },
   {
    "duration": 14,
    "start_time": "2022-10-29T09:56:18.392Z"
   },
   {
    "duration": 63,
    "start_time": "2022-10-29T09:56:18.408Z"
   },
   {
    "duration": 4,
    "start_time": "2022-10-29T09:56:18.473Z"
   },
   {
    "duration": 27,
    "start_time": "2022-10-29T09:56:18.478Z"
   },
   {
    "duration": 5,
    "start_time": "2022-10-29T09:56:18.507Z"
   },
   {
    "duration": 11,
    "start_time": "2022-10-29T09:56:18.513Z"
   },
   {
    "duration": 35,
    "start_time": "2022-10-29T09:56:18.525Z"
   },
   {
    "duration": 31,
    "start_time": "2022-10-29T09:56:18.562Z"
   },
   {
    "duration": 9,
    "start_time": "2022-10-29T09:56:18.594Z"
   },
   {
    "duration": 7,
    "start_time": "2022-10-29T09:56:18.604Z"
   },
   {
    "duration": 26,
    "start_time": "2022-10-29T09:56:18.612Z"
   },
   {
    "duration": 33,
    "start_time": "2022-10-29T09:56:18.639Z"
   },
   {
    "duration": 15,
    "start_time": "2022-10-29T09:56:18.673Z"
   },
   {
    "duration": 4,
    "start_time": "2022-10-29T09:56:18.689Z"
   },
   {
    "duration": 10,
    "start_time": "2022-10-29T09:56:18.694Z"
   },
   {
    "duration": 7,
    "start_time": "2022-10-29T09:56:18.706Z"
   },
   {
    "duration": 3,
    "start_time": "2022-10-29T09:56:18.715Z"
   },
   {
    "duration": 19,
    "start_time": "2022-10-29T09:56:18.722Z"
   },
   {
    "duration": 77,
    "start_time": "2022-10-29T09:56:18.742Z"
   },
   {
    "duration": 183,
    "start_time": "2022-10-29T09:56:18.820Z"
   },
   {
    "duration": 99,
    "start_time": "2022-10-29T09:56:19.005Z"
   },
   {
    "duration": 69,
    "start_time": "2022-10-29T09:56:19.106Z"
   },
   {
    "duration": 60,
    "start_time": "2022-10-29T09:57:41.539Z"
   },
   {
    "duration": 74,
    "start_time": "2022-10-29T10:01:48.165Z"
   },
   {
    "duration": 80,
    "start_time": "2022-10-29T10:02:23.383Z"
   },
   {
    "duration": 81,
    "start_time": "2022-10-29T10:02:32.486Z"
   },
   {
    "duration": 83,
    "start_time": "2022-10-29T10:07:11.389Z"
   },
   {
    "duration": 1069,
    "start_time": "2022-10-29T10:07:48.707Z"
   },
   {
    "duration": 98,
    "start_time": "2022-10-29T10:08:09.757Z"
   },
   {
    "duration": 1105,
    "start_time": "2022-10-29T10:10:42.606Z"
   },
   {
    "duration": 86,
    "start_time": "2022-10-29T10:11:00.791Z"
   },
   {
    "duration": 97,
    "start_time": "2022-10-29T10:11:46.516Z"
   },
   {
    "duration": 258,
    "start_time": "2022-10-29T10:15:28.644Z"
   },
   {
    "duration": 95,
    "start_time": "2022-10-29T10:18:35.264Z"
   },
   {
    "duration": 99,
    "start_time": "2022-10-29T10:19:01.775Z"
   },
   {
    "duration": 90,
    "start_time": "2022-10-29T10:19:11.782Z"
   },
   {
    "duration": 78,
    "start_time": "2022-10-29T10:19:17.252Z"
   },
   {
    "duration": 62,
    "start_time": "2022-10-29T10:23:26.474Z"
   },
   {
    "duration": 8,
    "start_time": "2022-10-29T10:23:34.930Z"
   },
   {
    "duration": 10,
    "start_time": "2022-10-29T10:24:12.156Z"
   },
   {
    "duration": 7,
    "start_time": "2022-10-29T10:24:37.371Z"
   },
   {
    "duration": 9,
    "start_time": "2022-10-29T10:24:50.465Z"
   },
   {
    "duration": 8,
    "start_time": "2022-10-29T10:26:15.448Z"
   },
   {
    "duration": 51,
    "start_time": "2022-10-29T10:27:46.153Z"
   },
   {
    "duration": 10,
    "start_time": "2022-10-29T10:27:56.664Z"
   },
   {
    "duration": 7,
    "start_time": "2022-10-29T10:29:30.548Z"
   },
   {
    "duration": 7,
    "start_time": "2022-10-29T10:30:32.007Z"
   },
   {
    "duration": 87,
    "start_time": "2022-10-29T10:30:42.883Z"
   },
   {
    "duration": 10,
    "start_time": "2022-10-29T10:30:44.700Z"
   },
   {
    "duration": 16,
    "start_time": "2022-10-29T10:31:34.051Z"
   },
   {
    "duration": 8,
    "start_time": "2022-10-29T10:32:06.549Z"
   },
   {
    "duration": 7,
    "start_time": "2022-10-29T10:32:26.974Z"
   },
   {
    "duration": 92,
    "start_time": "2022-10-29T10:32:31.906Z"
   },
   {
    "duration": 13,
    "start_time": "2022-10-29T10:32:34.348Z"
   },
   {
    "duration": 13,
    "start_time": "2022-10-29T10:32:55.005Z"
   },
   {
    "duration": 11,
    "start_time": "2022-10-29T10:33:02.508Z"
   },
   {
    "duration": 7,
    "start_time": "2022-10-29T10:34:09.329Z"
   },
   {
    "duration": 82,
    "start_time": "2022-10-29T10:47:29.890Z"
   },
   {
    "duration": 127,
    "start_time": "2022-10-29T10:49:29.861Z"
   },
   {
    "duration": 425,
    "start_time": "2022-10-29T10:52:22.200Z"
   },
   {
    "duration": 25,
    "start_time": "2022-10-29T10:52:22.627Z"
   },
   {
    "duration": 36,
    "start_time": "2022-10-29T10:52:22.656Z"
   },
   {
    "duration": 10,
    "start_time": "2022-10-29T10:52:22.693Z"
   },
   {
    "duration": 51,
    "start_time": "2022-10-29T10:52:22.704Z"
   },
   {
    "duration": 3,
    "start_time": "2022-10-29T10:52:22.757Z"
   },
   {
    "duration": 13,
    "start_time": "2022-10-29T10:52:22.761Z"
   },
   {
    "duration": 13,
    "start_time": "2022-10-29T10:52:22.776Z"
   },
   {
    "duration": 11,
    "start_time": "2022-10-29T10:52:22.792Z"
   },
   {
    "duration": 9,
    "start_time": "2022-10-29T10:52:22.804Z"
   },
   {
    "duration": 44,
    "start_time": "2022-10-29T10:52:22.814Z"
   },
   {
    "duration": 8,
    "start_time": "2022-10-29T10:52:22.860Z"
   },
   {
    "duration": 6,
    "start_time": "2022-10-29T10:52:22.870Z"
   },
   {
    "duration": 13,
    "start_time": "2022-10-29T10:52:22.877Z"
   },
   {
    "duration": 27,
    "start_time": "2022-10-29T10:52:22.891Z"
   },
   {
    "duration": 25,
    "start_time": "2022-10-29T10:52:22.929Z"
   },
   {
    "duration": 4,
    "start_time": "2022-10-29T10:52:22.956Z"
   },
   {
    "duration": 24,
    "start_time": "2022-10-29T10:52:22.961Z"
   },
   {
    "duration": 16,
    "start_time": "2022-10-29T10:52:22.986Z"
   },
   {
    "duration": 5,
    "start_time": "2022-10-29T10:52:23.003Z"
   },
   {
    "duration": 45,
    "start_time": "2022-10-29T10:52:23.009Z"
   },
   {
    "duration": 89,
    "start_time": "2022-10-29T10:52:23.056Z"
   },
   {
    "duration": 125,
    "start_time": "2022-10-29T10:52:23.148Z"
   },
   {
    "duration": 91,
    "start_time": "2022-10-29T10:52:23.275Z"
   },
   {
    "duration": 143,
    "start_time": "2022-10-29T10:52:23.368Z"
   },
   {
    "duration": 66,
    "start_time": "2022-10-29T10:52:23.513Z"
   },
   {
    "duration": 7,
    "start_time": "2022-10-29T10:52:23.583Z"
   },
   {
    "duration": 13,
    "start_time": "2022-10-29T10:54:14.800Z"
   },
   {
    "duration": 123,
    "start_time": "2022-10-29T10:54:56.654Z"
   },
   {
    "duration": 24,
    "start_time": "2022-10-29T10:56:02.815Z"
   },
   {
    "duration": 10,
    "start_time": "2022-10-29T10:57:02.821Z"
   },
   {
    "duration": 55,
    "start_time": "2022-10-29T10:57:29.440Z"
   },
   {
    "duration": 16,
    "start_time": "2022-10-29T10:57:33.909Z"
   },
   {
    "duration": 16,
    "start_time": "2022-10-29T10:57:52.690Z"
   },
   {
    "duration": 20,
    "start_time": "2022-10-29T10:58:36.152Z"
   },
   {
    "duration": 7,
    "start_time": "2022-10-29T10:59:31.254Z"
   },
   {
    "duration": 810,
    "start_time": "2022-10-29T10:59:39.165Z"
   },
   {
    "duration": 15,
    "start_time": "2022-10-29T11:00:04.546Z"
   },
   {
    "duration": 758,
    "start_time": "2022-10-29T11:00:17.243Z"
   },
   {
    "duration": 773,
    "start_time": "2022-10-29T11:00:46.640Z"
   },
   {
    "duration": 684,
    "start_time": "2022-10-29T11:01:23.285Z"
   },
   {
    "duration": 528,
    "start_time": "2022-10-29T11:01:30.012Z"
   },
   {
    "duration": 23,
    "start_time": "2022-10-29T11:01:30.544Z"
   },
   {
    "duration": 26,
    "start_time": "2022-10-29T11:01:30.568Z"
   },
   {
    "duration": 14,
    "start_time": "2022-10-29T11:01:30.596Z"
   },
   {
    "duration": 54,
    "start_time": "2022-10-29T11:01:30.611Z"
   },
   {
    "duration": 4,
    "start_time": "2022-10-29T11:01:30.666Z"
   },
   {
    "duration": 15,
    "start_time": "2022-10-29T11:01:30.671Z"
   },
   {
    "duration": 5,
    "start_time": "2022-10-29T11:01:30.688Z"
   },
   {
    "duration": 11,
    "start_time": "2022-10-29T11:01:30.694Z"
   },
   {
    "duration": 44,
    "start_time": "2022-10-29T11:01:30.709Z"
   },
   {
    "duration": 49,
    "start_time": "2022-10-29T11:01:30.755Z"
   },
   {
    "duration": 11,
    "start_time": "2022-10-29T11:01:30.805Z"
   },
   {
    "duration": 52,
    "start_time": "2022-10-29T11:01:30.817Z"
   },
   {
    "duration": 27,
    "start_time": "2022-10-29T11:01:30.870Z"
   },
   {
    "duration": 55,
    "start_time": "2022-10-29T11:01:30.899Z"
   },
   {
    "duration": 25,
    "start_time": "2022-10-29T11:01:30.958Z"
   },
   {
    "duration": 8,
    "start_time": "2022-10-29T11:01:30.986Z"
   },
   {
    "duration": 70,
    "start_time": "2022-10-29T11:01:30.995Z"
   },
   {
    "duration": 27,
    "start_time": "2022-10-29T11:01:31.067Z"
   },
   {
    "duration": 11,
    "start_time": "2022-10-29T11:01:31.095Z"
   },
   {
    "duration": 27,
    "start_time": "2022-10-29T11:01:31.108Z"
   },
   {
    "duration": 110,
    "start_time": "2022-10-29T11:01:31.137Z"
   },
   {
    "duration": 126,
    "start_time": "2022-10-29T11:01:31.250Z"
   },
   {
    "duration": 91,
    "start_time": "2022-10-29T11:01:31.378Z"
   },
   {
    "duration": 133,
    "start_time": "2022-10-29T11:01:31.471Z"
   },
   {
    "duration": 94,
    "start_time": "2022-10-29T11:01:31.606Z"
   },
   {
    "duration": 6,
    "start_time": "2022-10-29T11:01:31.702Z"
   },
   {
    "duration": 37,
    "start_time": "2022-10-29T11:01:31.711Z"
   },
   {
    "duration": 19,
    "start_time": "2022-10-29T11:03:00.345Z"
   },
   {
    "duration": 30,
    "start_time": "2022-10-29T11:03:48.051Z"
   },
   {
    "duration": 21,
    "start_time": "2022-10-29T11:04:12.882Z"
   },
   {
    "duration": 18,
    "start_time": "2022-10-29T11:05:03.174Z"
   },
   {
    "duration": 20,
    "start_time": "2022-10-29T11:05:43.965Z"
   },
   {
    "duration": 39,
    "start_time": "2022-10-29T11:05:52.111Z"
   },
   {
    "duration": 21,
    "start_time": "2022-10-29T11:07:02.846Z"
   },
   {
    "duration": 20,
    "start_time": "2022-10-29T11:07:10.772Z"
   },
   {
    "duration": 36,
    "start_time": "2022-10-29T11:07:49.113Z"
   },
   {
    "duration": 17,
    "start_time": "2022-10-29T11:10:33.520Z"
   },
   {
    "duration": 12,
    "start_time": "2022-10-29T11:10:43.009Z"
   },
   {
    "duration": 73,
    "start_time": "2022-10-29T11:11:25.194Z"
   },
   {
    "duration": 24,
    "start_time": "2022-10-29T11:11:30.118Z"
   },
   {
    "duration": 6,
    "start_time": "2022-10-29T11:11:42.648Z"
   },
   {
    "duration": 6,
    "start_time": "2022-10-29T11:11:47.581Z"
   },
   {
    "duration": 6,
    "start_time": "2022-10-29T11:12:11.737Z"
   },
   {
    "duration": 22,
    "start_time": "2022-10-29T11:14:16.879Z"
   },
   {
    "duration": 427,
    "start_time": "2022-10-29T11:26:46.082Z"
   },
   {
    "duration": 39,
    "start_time": "2022-10-29T11:26:46.510Z"
   },
   {
    "duration": 14,
    "start_time": "2022-10-29T11:26:46.552Z"
   },
   {
    "duration": 9,
    "start_time": "2022-10-29T11:26:46.568Z"
   },
   {
    "duration": 30,
    "start_time": "2022-10-29T11:26:46.579Z"
   },
   {
    "duration": 4,
    "start_time": "2022-10-29T11:26:46.610Z"
   },
   {
    "duration": 26,
    "start_time": "2022-10-29T11:26:46.615Z"
   },
   {
    "duration": 9,
    "start_time": "2022-10-29T11:26:46.644Z"
   },
   {
    "duration": 9,
    "start_time": "2022-10-29T11:26:46.654Z"
   },
   {
    "duration": 6,
    "start_time": "2022-10-29T11:26:46.665Z"
   },
   {
    "duration": 31,
    "start_time": "2022-10-29T11:26:46.672Z"
   },
   {
    "duration": 8,
    "start_time": "2022-10-29T11:26:46.704Z"
   },
   {
    "duration": 19,
    "start_time": "2022-10-29T11:26:46.714Z"
   },
   {
    "duration": 17,
    "start_time": "2022-10-29T11:26:46.744Z"
   },
   {
    "duration": 27,
    "start_time": "2022-10-29T11:26:46.763Z"
   },
   {
    "duration": 16,
    "start_time": "2022-10-29T11:26:46.791Z"
   },
   {
    "duration": 6,
    "start_time": "2022-10-29T11:26:46.809Z"
   },
   {
    "duration": 41,
    "start_time": "2022-10-29T11:26:46.816Z"
   },
   {
    "duration": 7,
    "start_time": "2022-10-29T11:26:46.859Z"
   },
   {
    "duration": 10,
    "start_time": "2022-10-29T11:26:46.868Z"
   },
   {
    "duration": 9,
    "start_time": "2022-10-29T11:26:46.880Z"
   },
   {
    "duration": 77,
    "start_time": "2022-10-29T11:26:46.890Z"
   },
   {
    "duration": 132,
    "start_time": "2022-10-29T11:26:46.969Z"
   },
   {
    "duration": 94,
    "start_time": "2022-10-29T11:26:47.103Z"
   },
   {
    "duration": 115,
    "start_time": "2022-10-29T11:26:47.199Z"
   },
   {
    "duration": 64,
    "start_time": "2022-10-29T11:26:47.327Z"
   },
   {
    "duration": 6,
    "start_time": "2022-10-29T11:26:47.393Z"
   },
   {
    "duration": 45,
    "start_time": "2022-10-29T11:26:47.401Z"
   },
   {
    "duration": 446,
    "start_time": "2022-10-29T11:33:46.193Z"
   },
   {
    "duration": 19,
    "start_time": "2022-10-29T11:33:46.641Z"
   },
   {
    "duration": 13,
    "start_time": "2022-10-29T11:33:46.661Z"
   },
   {
    "duration": 8,
    "start_time": "2022-10-29T11:33:46.676Z"
   },
   {
    "duration": 42,
    "start_time": "2022-10-29T11:33:46.685Z"
   },
   {
    "duration": 3,
    "start_time": "2022-10-29T11:33:46.728Z"
   },
   {
    "duration": 11,
    "start_time": "2022-10-29T11:33:46.732Z"
   },
   {
    "duration": 13,
    "start_time": "2022-10-29T11:33:46.744Z"
   },
   {
    "duration": 12,
    "start_time": "2022-10-29T11:33:46.758Z"
   },
   {
    "duration": 4,
    "start_time": "2022-10-29T11:33:46.772Z"
   },
   {
    "duration": 32,
    "start_time": "2022-10-29T11:33:46.777Z"
   },
   {
    "duration": 15,
    "start_time": "2022-10-29T11:33:46.810Z"
   },
   {
    "duration": 8,
    "start_time": "2022-10-29T11:33:46.826Z"
   },
   {
    "duration": 16,
    "start_time": "2022-10-29T11:33:46.835Z"
   },
   {
    "duration": 18,
    "start_time": "2022-10-29T11:33:46.852Z"
   },
   {
    "duration": 15,
    "start_time": "2022-10-29T11:33:46.871Z"
   },
   {
    "duration": 3,
    "start_time": "2022-10-29T11:33:46.888Z"
   },
   {
    "duration": 15,
    "start_time": "2022-10-29T11:33:46.892Z"
   },
   {
    "duration": 17,
    "start_time": "2022-10-29T11:33:46.908Z"
   },
   {
    "duration": 4,
    "start_time": "2022-10-29T11:33:46.926Z"
   },
   {
    "duration": 12,
    "start_time": "2022-10-29T11:33:46.931Z"
   },
   {
    "duration": 61,
    "start_time": "2022-10-29T11:33:46.944Z"
   },
   {
    "duration": 117,
    "start_time": "2022-10-29T11:33:47.022Z"
   },
   {
    "duration": 81,
    "start_time": "2022-10-29T11:33:47.141Z"
   },
   {
    "duration": 132,
    "start_time": "2022-10-29T11:33:47.224Z"
   },
   {
    "duration": 52,
    "start_time": "2022-10-29T11:33:47.357Z"
   },
   {
    "duration": 6,
    "start_time": "2022-10-29T11:33:47.421Z"
   },
   {
    "duration": 28,
    "start_time": "2022-10-29T11:33:47.429Z"
   },
   {
    "duration": 61,
    "start_time": "2022-10-29T12:13:16.117Z"
   },
   {
    "duration": 493,
    "start_time": "2022-10-29T12:24:49.173Z"
   },
   {
    "duration": 21,
    "start_time": "2022-10-29T12:24:49.668Z"
   },
   {
    "duration": 19,
    "start_time": "2022-10-29T12:24:49.691Z"
   },
   {
    "duration": 57,
    "start_time": "2022-10-29T12:24:49.712Z"
   },
   {
    "duration": 51,
    "start_time": "2022-10-29T12:24:49.770Z"
   },
   {
    "duration": 4,
    "start_time": "2022-10-29T12:24:49.825Z"
   },
   {
    "duration": 43,
    "start_time": "2022-10-29T12:24:49.831Z"
   },
   {
    "duration": 14,
    "start_time": "2022-10-29T12:24:49.876Z"
   },
   {
    "duration": 13,
    "start_time": "2022-10-29T12:24:49.891Z"
   },
   {
    "duration": 20,
    "start_time": "2022-10-29T12:24:49.907Z"
   },
   {
    "duration": 74,
    "start_time": "2022-10-29T12:24:49.935Z"
   },
   {
    "duration": 9,
    "start_time": "2022-10-29T12:24:50.010Z"
   },
   {
    "duration": 65,
    "start_time": "2022-10-29T12:24:50.021Z"
   },
   {
    "duration": 33,
    "start_time": "2022-10-29T12:24:50.088Z"
   },
   {
    "duration": 53,
    "start_time": "2022-10-29T12:24:50.126Z"
   },
   {
    "duration": 44,
    "start_time": "2022-10-29T12:24:50.180Z"
   },
   {
    "duration": 38,
    "start_time": "2022-10-29T12:24:50.226Z"
   },
   {
    "duration": 36,
    "start_time": "2022-10-29T12:24:50.265Z"
   },
   {
    "duration": 49,
    "start_time": "2022-10-29T12:24:50.302Z"
   },
   {
    "duration": 25,
    "start_time": "2022-10-29T12:24:50.353Z"
   },
   {
    "duration": 38,
    "start_time": "2022-10-29T12:24:50.380Z"
   },
   {
    "duration": 138,
    "start_time": "2022-10-29T12:24:50.419Z"
   },
   {
    "duration": 137,
    "start_time": "2022-10-29T12:24:50.560Z"
   },
   {
    "duration": 103,
    "start_time": "2022-10-29T12:24:50.699Z"
   },
   {
    "duration": 138,
    "start_time": "2022-10-29T12:24:50.804Z"
   },
   {
    "duration": 92,
    "start_time": "2022-10-29T12:24:50.945Z"
   },
   {
    "duration": 12,
    "start_time": "2022-10-29T12:24:51.040Z"
   },
   {
    "duration": 45,
    "start_time": "2022-10-29T12:24:51.056Z"
   },
   {
    "duration": 135,
    "start_time": "2022-10-29T12:40:30.661Z"
   },
   {
    "duration": 128,
    "start_time": "2022-10-29T12:51:11.289Z"
   },
   {
    "duration": 23,
    "start_time": "2022-10-29T12:52:39.142Z"
   },
   {
    "duration": 121,
    "start_time": "2022-10-29T12:52:44.578Z"
   },
   {
    "duration": 457,
    "start_time": "2022-10-29T13:31:09.333Z"
   },
   {
    "duration": 19,
    "start_time": "2022-10-29T13:31:09.792Z"
   },
   {
    "duration": 20,
    "start_time": "2022-10-29T13:31:09.813Z"
   },
   {
    "duration": 13,
    "start_time": "2022-10-29T13:31:09.835Z"
   },
   {
    "duration": 37,
    "start_time": "2022-10-29T13:31:09.849Z"
   },
   {
    "duration": 3,
    "start_time": "2022-10-29T13:31:09.887Z"
   },
   {
    "duration": 21,
    "start_time": "2022-10-29T13:31:09.891Z"
   },
   {
    "duration": 23,
    "start_time": "2022-10-29T13:31:09.914Z"
   },
   {
    "duration": 8,
    "start_time": "2022-10-29T13:31:09.939Z"
   },
   {
    "duration": 4,
    "start_time": "2022-10-29T13:31:09.950Z"
   },
   {
    "duration": 33,
    "start_time": "2022-10-29T13:31:09.955Z"
   },
   {
    "duration": 9,
    "start_time": "2022-10-29T13:31:09.990Z"
   },
   {
    "duration": 8,
    "start_time": "2022-10-29T13:31:10.000Z"
   },
   {
    "duration": 43,
    "start_time": "2022-10-29T13:31:10.009Z"
   },
   {
    "duration": 28,
    "start_time": "2022-10-29T13:31:10.054Z"
   },
   {
    "duration": 15,
    "start_time": "2022-10-29T13:31:10.083Z"
   },
   {
    "duration": 15,
    "start_time": "2022-10-29T13:31:10.099Z"
   },
   {
    "duration": 28,
    "start_time": "2022-10-29T13:31:10.116Z"
   },
   {
    "duration": 9,
    "start_time": "2022-10-29T13:31:10.146Z"
   },
   {
    "duration": 8,
    "start_time": "2022-10-29T13:31:10.156Z"
   },
   {
    "duration": 13,
    "start_time": "2022-10-29T13:31:10.166Z"
   },
   {
    "duration": 76,
    "start_time": "2022-10-29T13:31:10.180Z"
   },
   {
    "duration": 122,
    "start_time": "2022-10-29T13:31:10.257Z"
   },
   {
    "duration": 130,
    "start_time": "2022-10-29T13:31:10.380Z"
   },
   {
    "duration": 130,
    "start_time": "2022-10-29T13:31:10.512Z"
   },
   {
    "duration": 56,
    "start_time": "2022-10-29T13:31:10.644Z"
   },
   {
    "duration": 6,
    "start_time": "2022-10-29T13:31:10.701Z"
   },
   {
    "duration": 34,
    "start_time": "2022-10-29T13:31:10.709Z"
   },
   {
    "duration": 513,
    "start_time": "2022-10-30T10:00:41.368Z"
   },
   {
    "duration": 22,
    "start_time": "2022-10-30T10:00:41.883Z"
   },
   {
    "duration": 18,
    "start_time": "2022-10-30T10:00:41.907Z"
   },
   {
    "duration": 9,
    "start_time": "2022-10-30T10:00:41.927Z"
   },
   {
    "duration": 49,
    "start_time": "2022-10-30T10:00:41.937Z"
   },
   {
    "duration": 5,
    "start_time": "2022-10-30T10:00:41.988Z"
   },
   {
    "duration": 19,
    "start_time": "2022-10-30T10:00:41.994Z"
   },
   {
    "duration": 7,
    "start_time": "2022-10-30T10:00:42.015Z"
   },
   {
    "duration": 9,
    "start_time": "2022-10-30T10:00:42.023Z"
   },
   {
    "duration": 5,
    "start_time": "2022-10-30T10:00:42.054Z"
   },
   {
    "duration": 40,
    "start_time": "2022-10-30T10:00:42.061Z"
   },
   {
    "duration": 12,
    "start_time": "2022-10-30T10:00:42.102Z"
   },
   {
    "duration": 5,
    "start_time": "2022-10-30T10:00:42.116Z"
   },
   {
    "duration": 37,
    "start_time": "2022-10-30T10:00:42.122Z"
   },
   {
    "duration": 31,
    "start_time": "2022-10-30T10:00:42.161Z"
   },
   {
    "duration": 18,
    "start_time": "2022-10-30T10:00:42.194Z"
   },
   {
    "duration": 5,
    "start_time": "2022-10-30T10:00:42.213Z"
   },
   {
    "duration": 33,
    "start_time": "2022-10-30T10:00:42.221Z"
   },
   {
    "duration": 9,
    "start_time": "2022-10-30T10:00:42.257Z"
   },
   {
    "duration": 5,
    "start_time": "2022-10-30T10:00:42.268Z"
   },
   {
    "duration": 17,
    "start_time": "2022-10-30T10:00:42.275Z"
   },
   {
    "duration": 98,
    "start_time": "2022-10-30T10:00:42.294Z"
   },
   {
    "duration": 129,
    "start_time": "2022-10-30T10:00:42.394Z"
   },
   {
    "duration": 158,
    "start_time": "2022-10-30T10:00:42.525Z"
   },
   {
    "duration": 136,
    "start_time": "2022-10-30T10:00:42.685Z"
   },
   {
    "duration": 139,
    "start_time": "2022-10-30T10:00:42.823Z"
   },
   {
    "duration": 79,
    "start_time": "2022-10-30T10:00:42.964Z"
   },
   {
    "duration": 7,
    "start_time": "2022-10-30T10:00:43.046Z"
   },
   {
    "duration": 42,
    "start_time": "2022-10-30T10:00:43.055Z"
   },
   {
    "duration": 54,
    "start_time": "2022-10-31T13:15:15.467Z"
   },
   {
    "duration": 0,
    "start_time": "2022-10-31T13:15:49.243Z"
   },
   {
    "duration": 564,
    "start_time": "2022-10-31T13:15:49.273Z"
   },
   {
    "duration": 24,
    "start_time": "2022-10-31T13:15:49.839Z"
   },
   {
    "duration": 17,
    "start_time": "2022-10-31T13:15:49.865Z"
   },
   {
    "duration": 14,
    "start_time": "2022-10-31T13:15:49.885Z"
   },
   {
    "duration": 36,
    "start_time": "2022-10-31T13:15:49.901Z"
   },
   {
    "duration": 4,
    "start_time": "2022-10-31T13:15:49.939Z"
   },
   {
    "duration": 9,
    "start_time": "2022-10-31T13:15:49.945Z"
   },
   {
    "duration": 7,
    "start_time": "2022-10-31T13:15:49.955Z"
   },
   {
    "duration": 33,
    "start_time": "2022-10-31T13:15:49.964Z"
   },
   {
    "duration": 5,
    "start_time": "2022-10-31T13:15:50.000Z"
   },
   {
    "duration": 44,
    "start_time": "2022-10-31T13:15:50.006Z"
   },
   {
    "duration": 10,
    "start_time": "2022-10-31T13:15:50.052Z"
   },
   {
    "duration": 4,
    "start_time": "2022-10-31T13:15:50.064Z"
   },
   {
    "duration": 30,
    "start_time": "2022-10-31T13:15:50.070Z"
   },
   {
    "duration": 21,
    "start_time": "2022-10-31T13:15:50.102Z"
   },
   {
    "duration": 18,
    "start_time": "2022-10-31T13:15:50.124Z"
   },
   {
    "duration": 3,
    "start_time": "2022-10-31T13:15:50.144Z"
   },
   {
    "duration": 11,
    "start_time": "2022-10-31T13:15:50.149Z"
   },
   {
    "duration": 7,
    "start_time": "2022-10-31T13:15:50.190Z"
   },
   {
    "duration": 4,
    "start_time": "2022-10-31T13:15:50.199Z"
   },
   {
    "duration": 12,
    "start_time": "2022-10-31T13:15:50.204Z"
   },
   {
    "duration": 94,
    "start_time": "2022-10-31T13:15:50.218Z"
   },
   {
    "duration": 139,
    "start_time": "2022-10-31T13:15:50.314Z"
   },
   {
    "duration": 154,
    "start_time": "2022-10-31T13:15:50.455Z"
   },
   {
    "duration": 138,
    "start_time": "2022-10-31T13:15:50.611Z"
   },
   {
    "duration": 128,
    "start_time": "2022-10-31T13:15:50.750Z"
   },
   {
    "duration": 74,
    "start_time": "2022-10-31T13:15:50.880Z"
   },
   {
    "duration": 6,
    "start_time": "2022-10-31T13:15:50.957Z"
   },
   {
    "duration": 27,
    "start_time": "2022-10-31T13:15:50.964Z"
   },
   {
    "duration": 133,
    "start_time": "2022-10-31T13:16:59.286Z"
   },
   {
    "duration": 156,
    "start_time": "2022-10-31T13:17:06.535Z"
   },
   {
    "duration": 124,
    "start_time": "2022-10-31T13:17:12.887Z"
   },
   {
    "duration": 58,
    "start_time": "2023-06-19T12:49:54.342Z"
   },
   {
    "duration": 525,
    "start_time": "2023-06-19T12:50:01.762Z"
   },
   {
    "duration": 21,
    "start_time": "2023-06-19T12:50:02.289Z"
   },
   {
    "duration": 57,
    "start_time": "2023-06-19T12:50:02.311Z"
   },
   {
    "duration": 36,
    "start_time": "2023-06-19T12:50:02.370Z"
   },
   {
    "duration": 78,
    "start_time": "2023-06-19T12:50:02.408Z"
   },
   {
    "duration": 4,
    "start_time": "2023-06-19T12:50:02.488Z"
   },
   {
    "duration": 36,
    "start_time": "2023-06-19T12:50:02.494Z"
   },
   {
    "duration": 54,
    "start_time": "2023-06-19T12:50:02.531Z"
   },
   {
    "duration": 24,
    "start_time": "2023-06-19T12:50:02.587Z"
   },
   {
    "duration": 4,
    "start_time": "2023-06-19T12:50:02.615Z"
   },
   {
    "duration": 48,
    "start_time": "2023-06-19T12:50:02.620Z"
   },
   {
    "duration": 9,
    "start_time": "2023-06-19T12:50:02.669Z"
   },
   {
    "duration": 9,
    "start_time": "2023-06-19T12:50:02.679Z"
   },
   {
    "duration": 39,
    "start_time": "2023-06-19T12:50:02.690Z"
   },
   {
    "duration": 27,
    "start_time": "2023-06-19T12:50:02.731Z"
   },
   {
    "duration": 16,
    "start_time": "2023-06-19T12:50:02.759Z"
   },
   {
    "duration": 3,
    "start_time": "2023-06-19T12:50:02.776Z"
   },
   {
    "duration": 30,
    "start_time": "2023-06-19T12:50:02.781Z"
   },
   {
    "duration": 17,
    "start_time": "2023-06-19T12:50:02.812Z"
   },
   {
    "duration": 11,
    "start_time": "2023-06-19T12:50:02.831Z"
   },
   {
    "duration": 19,
    "start_time": "2023-06-19T12:50:02.843Z"
   },
   {
    "duration": 74,
    "start_time": "2023-06-19T12:50:02.864Z"
   },
   {
    "duration": 126,
    "start_time": "2023-06-19T12:50:02.939Z"
   },
   {
    "duration": 141,
    "start_time": "2023-06-19T12:50:03.066Z"
   },
   {
    "duration": 125,
    "start_time": "2023-06-19T12:50:03.209Z"
   },
   {
    "duration": 75,
    "start_time": "2023-06-19T12:50:03.336Z"
   },
   {
    "duration": 5,
    "start_time": "2023-06-19T12:50:03.413Z"
   },
   {
    "duration": 31,
    "start_time": "2023-06-19T12:50:03.421Z"
   },
   {
    "duration": 431,
    "start_time": "2023-06-19T12:59:40.204Z"
   },
   {
    "duration": 21,
    "start_time": "2023-06-19T12:59:40.637Z"
   },
   {
    "duration": 18,
    "start_time": "2023-06-19T12:59:40.660Z"
   },
   {
    "duration": 9,
    "start_time": "2023-06-19T12:59:40.680Z"
   },
   {
    "duration": 33,
    "start_time": "2023-06-19T12:59:40.691Z"
   },
   {
    "duration": 3,
    "start_time": "2023-06-19T12:59:40.725Z"
   },
   {
    "duration": 7,
    "start_time": "2023-06-19T12:59:40.754Z"
   },
   {
    "duration": 3,
    "start_time": "2023-06-19T12:59:40.763Z"
   },
   {
    "duration": 9,
    "start_time": "2023-06-19T12:59:40.768Z"
   },
   {
    "duration": 3,
    "start_time": "2023-06-19T12:59:40.779Z"
   },
   {
    "duration": 36,
    "start_time": "2023-06-19T12:59:40.784Z"
   },
   {
    "duration": 8,
    "start_time": "2023-06-19T12:59:40.822Z"
   },
   {
    "duration": 24,
    "start_time": "2023-06-19T12:59:40.832Z"
   },
   {
    "duration": 11,
    "start_time": "2023-06-19T12:59:40.857Z"
   },
   {
    "duration": 18,
    "start_time": "2023-06-19T12:59:40.870Z"
   },
   {
    "duration": 15,
    "start_time": "2023-06-19T12:59:40.890Z"
   },
   {
    "duration": 3,
    "start_time": "2023-06-19T12:59:40.907Z"
   },
   {
    "duration": 10,
    "start_time": "2023-06-19T12:59:40.912Z"
   },
   {
    "duration": 32,
    "start_time": "2023-06-19T12:59:40.924Z"
   },
   {
    "duration": 4,
    "start_time": "2023-06-19T12:59:40.958Z"
   },
   {
    "duration": 15,
    "start_time": "2023-06-19T12:59:40.964Z"
   },
   {
    "duration": 66,
    "start_time": "2023-06-19T12:59:40.980Z"
   },
   {
    "duration": 127,
    "start_time": "2023-06-19T12:59:41.047Z"
   },
   {
    "duration": 132,
    "start_time": "2023-06-19T12:59:41.176Z"
   },
   {
    "duration": 121,
    "start_time": "2023-06-19T12:59:41.310Z"
   },
   {
    "duration": 68,
    "start_time": "2023-06-19T12:59:41.433Z"
   },
   {
    "duration": 6,
    "start_time": "2023-06-19T12:59:41.502Z"
   },
   {
    "duration": 18,
    "start_time": "2023-06-19T12:59:41.511Z"
   }
  ],
  "celltoolbar": "Edit Metadata",
  "colab": {
   "name": "dpp_template_part2.ipynb",
   "provenance": []
  },
  "kernelspec": {
   "display_name": "Python 3 (ipykernel)",
   "language": "python",
   "name": "python3"
  },
  "language_info": {
   "codemirror_mode": {
    "name": "ipython",
    "version": 3
   },
   "file_extension": ".py",
   "mimetype": "text/x-python",
   "name": "python",
   "nbconvert_exporter": "python",
   "pygments_lexer": "ipython3",
   "version": "3.9.5"
  },
  "toc": {
   "base_numbering": 1,
   "nav_menu": {},
   "number_sections": true,
   "sideBar": true,
   "skip_h1_title": true,
   "title_cell": "Table of Contents",
   "title_sidebar": "Contents",
   "toc_cell": false,
   "toc_position": {},
   "toc_section_display": true,
   "toc_window_display": true
  }
 },
 "nbformat": 4,
 "nbformat_minor": 5
}
